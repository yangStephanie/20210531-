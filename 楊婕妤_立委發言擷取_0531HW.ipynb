{
 "cells": [
  {
   "cell_type": "markdown",
   "metadata": {},
   "source": [
    "#### Name :  homework\n",
    "#### Function :  Text segmentation demo using jieba and Ckip Tagger\n",
    "#### Data:    (1) 委員發言逐字稿(0806~1002).csv"
   ]
  },
  {
   "cell_type": "code",
   "execution_count": 1,
   "metadata": {
    "scrolled": true
   },
   "outputs": [],
   "source": [
    "import pandas as pd \n",
    "import numpy as np\n",
    "df = pd.read_csv(\"委員發言逐字稿(0806_1002).csv\" , header = None) "
   ]
  },
  {
   "cell_type": "code",
   "execution_count": 2,
   "metadata": {
    "scrolled": true
   },
   "outputs": [],
   "source": [
    "df.columns = [\"屆期\", \"會期\", \"會議日期\", \"會議時間\", \"主辦單位\", \"會議名稱\", \"會議事由\", \"委員姓名\", \"選區名稱\", \"發言時間起\", \"發言時間迄\", \"發言紀錄網址\", \"影片長度\" ,\"影片網址\", \"逐字稿\" ]"
   ]
  },
  {
   "cell_type": "code",
   "execution_count": 3,
   "metadata": {},
   "outputs": [
    {
     "data": {
      "text/html": [
       "<div>\n",
       "<style scoped>\n",
       "    .dataframe tbody tr th:only-of-type {\n",
       "        vertical-align: middle;\n",
       "    }\n",
       "\n",
       "    .dataframe tbody tr th {\n",
       "        vertical-align: top;\n",
       "    }\n",
       "\n",
       "    .dataframe thead th {\n",
       "        text-align: right;\n",
       "    }\n",
       "</style>\n",
       "<table border=\"1\" class=\"dataframe\">\n",
       "  <thead>\n",
       "    <tr style=\"text-align: right;\">\n",
       "      <th></th>\n",
       "      <th>屆期</th>\n",
       "      <th>會期</th>\n",
       "      <th>會議日期</th>\n",
       "      <th>會議時間</th>\n",
       "      <th>主辦單位</th>\n",
       "      <th>會議名稱</th>\n",
       "      <th>會議事由</th>\n",
       "      <th>委員姓名</th>\n",
       "      <th>選區名稱</th>\n",
       "      <th>發言時間起</th>\n",
       "      <th>發言時間迄</th>\n",
       "      <th>發言紀錄網址</th>\n",
       "      <th>影片長度</th>\n",
       "      <th>影片網址</th>\n",
       "      <th>逐字稿</th>\n",
       "    </tr>\n",
       "  </thead>\n",
       "  <tbody>\n",
       "    <tr>\n",
       "      <th>0</th>\n",
       "      <td>8</td>\n",
       "      <td>6</td>\n",
       "      <td>9/12/2014</td>\n",
       "      <td>9:00</td>\n",
       "      <td>院會</td>\n",
       "      <td>第8屆第6會期第1次會議</td>\n",
       "      <td>一、12日上午9時至10時為國是論壇時間。二、行政院院長施政報告並備質詢。三、16日下午1時...</td>\n",
       "      <td>柯建銘</td>\n",
       "      <td>全國不分區</td>\n",
       "      <td>16:08:58</td>\n",
       "      <td>16:39:36</td>\n",
       "      <td>NaN</td>\n",
       "      <td>0:30:38</td>\n",
       "      <td>http://ivod.ly.gov.tw/Play/VOD/76016/300K</td>\n",
       "      <td>﻿柯委員建銘：（16 時 8 分）主席、行政院江院長、毛副院長、各部會首長、各位同仁。剛才江...</td>\n",
       "    </tr>\n",
       "    <tr>\n",
       "      <th>1</th>\n",
       "      <td>8</td>\n",
       "      <td>6</td>\n",
       "      <td>9/12/2014</td>\n",
       "      <td>9:00</td>\n",
       "      <td>院會</td>\n",
       "      <td>第8屆第6會期第1次會議</td>\n",
       "      <td>一、12日上午9時至10時為國是論壇時間。二、行政院院長施政報告並備質詢。三、16日下午1時...</td>\n",
       "      <td>楊瓊瓔</td>\n",
       "      <td>台中市第3選舉區</td>\n",
       "      <td>15:05:38</td>\n",
       "      <td>15:36:53</td>\n",
       "      <td>NaN</td>\n",
       "      <td>0:31:15</td>\n",
       "      <td>http://ivod.ly.gov.tw/Play/VOD/76015/300K</td>\n",
       "      <td>﻿楊委員瓊瓔：（15 時 5 分）主席、行政院江院長、毛副院長、各部會首長、各位同仁。剛剛看...</td>\n",
       "    </tr>\n",
       "  </tbody>\n",
       "</table>\n",
       "</div>"
      ],
      "text/plain": [
       "   屆期  會期       會議日期  會議時間 主辦單位          會議名稱  \\\n",
       "0   8   6  9/12/2014  9:00   院會  第8屆第6會期第1次會議   \n",
       "1   8   6  9/12/2014  9:00   院會  第8屆第6會期第1次會議   \n",
       "\n",
       "                                                會議事由 委員姓名      選區名稱     發言時間起  \\\n",
       "0  一、12日上午9時至10時為國是論壇時間。二、行政院院長施政報告並備質詢。三、16日下午1時...  柯建銘     全國不分區  16:08:58   \n",
       "1  一、12日上午9時至10時為國是論壇時間。二、行政院院長施政報告並備質詢。三、16日下午1時...  楊瓊瓔  台中市第3選舉區  15:05:38   \n",
       "\n",
       "      發言時間迄 發言紀錄網址     影片長度                                       影片網址  \\\n",
       "0  16:39:36    NaN  0:30:38  http://ivod.ly.gov.tw/Play/VOD/76016/300K   \n",
       "1  15:36:53    NaN  0:31:15  http://ivod.ly.gov.tw/Play/VOD/76015/300K   \n",
       "\n",
       "                                                 逐字稿  \n",
       "0  ﻿柯委員建銘：（16 時 8 分）主席、行政院江院長、毛副院長、各部會首長、各位同仁。剛才江...  \n",
       "1  ﻿楊委員瓊瓔：（15 時 5 分）主席、行政院江院長、毛副院長、各部會首長、各位同仁。剛剛看...  "
      ]
     },
     "execution_count": 3,
     "metadata": {},
     "output_type": "execute_result"
    }
   ],
   "source": [
    "df.head(2)"
   ]
  },
  {
   "cell_type": "code",
   "execution_count": 4,
   "metadata": {
    "scrolled": true
   },
   "outputs": [
    {
     "data": {
      "text/plain": [
       "array(['柯建銘', '楊瓊瓔', '邱文彥', '蕭美琴', '蔡其昌', '盧秀燕', '紀國棟', '李貴敏', '陳歐珀',\n",
       "       '陳鎮湘', '李桐豪', '王育敏', '楊麗環', '孔文吉', '葉津鈴', '賴振昌', '孫大千', '陳根德',\n",
       "       '江啟臣', '徐欣瑩', '林岱樺', '江惠貞', '李昆澤', '陳亭妃', '許智傑', '吳育昇', '蔣乃辛',\n",
       "       '黃偉哲', '羅淑蕾', '許添財', '賴士葆', '邱志偉', '姚文智', '陳學聖', '徐少萍', '蔡正元',\n",
       "       '廖正井', '詹凱臣', '王廷升', '蘇清泉', '陳碧涵', '段宜康', '馬文君', '薛凌', '邱議瑩',\n",
       "       '羅明才', '潘維剛', '李慶華', '陳節如', '管碧玲', '鄭麗君', '簡東明', '吳秉叡', '田秋堇',\n",
       "       '高金素梅', '葉宜津', '劉建國', '謝國樑', '鄭汝芬', '陳唐山', '呂學樟', '林郁方', '陳怡潔',\n",
       "       '王進士', '李應元', '王惠美', '林鴻池', '李俊俋', '陳超明', '楊曜', '費鴻泰', '陳明文',\n",
       "       '丁守中', '李鴻鈞', '蔡錦隆', '林國正', '曾巨威', '蘇震清', '黃志雄', '張慶忠', '陳淑慧',\n",
       "       '尤美女', '呂玉玲', '陳其邁', '黃昭順', '何欣純', '高志鵬', '林德福', '盧嘉辰', '吳育仁',\n",
       "       '趙天麟', '周倪安', '鄭天財(Sra．Kacaw)', '廖國棟', '蔡煌瑯', '林淑芬', '楊玉欣', '陳雪生',\n",
       "       '魏明谷', '林明溱', '張嘉郡', '潘孟安', '翁重鈞', '楊應雄', '顏寬恒', '徐耀昌', '劉櫂豪',\n",
       "       '吳宜臻', '林佳龍', '林滄敏', '徐志榮', '黃國書', '莊瑞雄', '陳素月', '許淑華', '詹滿容',\n",
       "       '蔡培慧', '柯志恩', '徐國勇', '黃國昌', '蔡易餘', '陳宜民', '許毓仁', '曾銘宗', '林俊憲',\n",
       "       '鄭天財Sra．Kacaw', '林麗蟬', '吳志揚', '羅致政', '簡東明Uliw．Qaljupayare', '江永昌',\n",
       "       '吳焜裕', '余宛如', '王定宇', '劉世芳', '林昶佐', '李彥秀', '周春米', '顧立雄', '陳曼麗',\n",
       "       '陳瑩', '蘇巧慧', '鍾孔炤', '黃秀芳', '張廖萬堅', '張麗善', '賴瑞隆', '蔣萬安', '呂孫綾',\n",
       "       '徐榛蔚', '蔡適應', '廖國棟Sufin．Siluko', '吳思瑤', '吳玉琴', '趙正宇', '鄭運鵬', '徐永明',\n",
       "       '林為洲', '王榮璋', '鍾佳濱', '蘇治芬', '周陳秀霞', '鄭寶清', '洪慈庸', '陳賴素美', '林靜儀',\n",
       "       '高潞．以用．巴魕剌Kawlo．Iyun．Pacidal', '谷辣斯‧尤達卡Kolas Yotaka', '楊鎮浯', '洪宗熠',\n",
       "       '張宏陸', '吳琪銘', '施義芳', '李麗芬', '王金平', '邱泰源', '郭正亮', '蔣絜安', '林奕華',\n",
       "       '陳靜敏', '沈智慧', '童惠珍', '何志偉', '陳玉珍', '郭國文', '柯呈枋', '余天', '鄭秀玲',\n",
       "       '憑證測試C', '李德維', '賴香伶', '吳斯懷', '邱顯智', '高虹安', '陳以信', '張其祿', '邱臣遠',\n",
       "       '洪孟楷', '葉毓蘭', '洪申翰', '王婉諭', '陳椒華', '鄭麗文', '張育美', '吳怡玎', '溫玉霞',\n",
       "       '高嘉瑜', '陳柏惟', '黃世杰', '伍麗華Saidhai‧Tahovecahe', '林宜瑾', '范雲', '魯明哲',\n",
       "       '陳秀寳', '王美惠', '傅崐萁', '沈發惠', '萬美玲', '賴惠員', '廖國棟Sufin‧Siluko', '林思銘',\n",
       "       '鄭天財 Sra Kacaw', '鄭正鈐', '羅美玲', '湯蕙禎', '賴品妤', '林文瑞', '林楚茵', '廖婉汝',\n",
       "       '莊競程', '謝衣鳯', '蔡壁如', '伍麗華Saidhai Tahovecahe'], dtype=object)"
      ]
     },
     "execution_count": 4,
     "metadata": {},
     "output_type": "execute_result"
    }
   ],
   "source": [
    "df['委員姓名'].unique()"
   ]
  },
  {
   "cell_type": "code",
   "execution_count": 5,
   "metadata": {},
   "outputs": [],
   "source": [
    "columns = ['會議時間', '主辦單位', '會議名稱', '會議事由', '選區名稱', '發言時間起', '發言時間迄', '發言紀錄網址', '影片長度', '影片網址' ]\n",
    "df2=df.drop(columns, axis=1)"
   ]
  },
  {
   "cell_type": "code",
   "execution_count": 6,
   "metadata": {},
   "outputs": [],
   "source": [
    "hsu = df2[df2.委員姓名 == \"管碧玲\"]"
   ]
  },
  {
   "cell_type": "code",
   "execution_count": 7,
   "metadata": {},
   "outputs": [
    {
     "data": {
      "text/html": [
       "<div>\n",
       "<style scoped>\n",
       "    .dataframe tbody tr th:only-of-type {\n",
       "        vertical-align: middle;\n",
       "    }\n",
       "\n",
       "    .dataframe tbody tr th {\n",
       "        vertical-align: top;\n",
       "    }\n",
       "\n",
       "    .dataframe thead th {\n",
       "        text-align: right;\n",
       "    }\n",
       "</style>\n",
       "<table border=\"1\" class=\"dataframe\">\n",
       "  <thead>\n",
       "    <tr style=\"text-align: right;\">\n",
       "      <th></th>\n",
       "      <th>屆期</th>\n",
       "      <th>會期</th>\n",
       "      <th>會議日期</th>\n",
       "      <th>委員姓名</th>\n",
       "      <th>逐字稿</th>\n",
       "    </tr>\n",
       "  </thead>\n",
       "  <tbody>\n",
       "    <tr>\n",
       "      <th>70</th>\n",
       "      <td>8</td>\n",
       "      <td>6</td>\n",
       "      <td>9/22/2014</td>\n",
       "      <td>管碧玲</td>\n",
       "      <td>﻿主席：請管委員碧玲質詢。\\n管委員碧玲：主席、各位列席官員、各位同仁。部長，文化工作百廢待...</td>\n",
       "    </tr>\n",
       "  </tbody>\n",
       "</table>\n",
       "</div>"
      ],
      "text/plain": [
       "    屆期  會期       會議日期 委員姓名                                                逐字稿\n",
       "70   8   6  9/22/2014  管碧玲  ﻿主席：請管委員碧玲質詢。\\n管委員碧玲：主席、各位列席官員、各位同仁。部長，文化工作百廢待..."
      ]
     },
     "execution_count": 7,
     "metadata": {},
     "output_type": "execute_result"
    }
   ],
   "source": [
    "hsu.head(1)"
   ]
  },
  {
   "cell_type": "code",
   "execution_count": 8,
   "metadata": {},
   "outputs": [],
   "source": [
    "columns2 = ['屆期', '會期', '會議日期', '委員姓名' ]\n",
    "hsu2 = hsu.drop(columns2, axis=1)"
   ]
  },
  {
   "cell_type": "code",
   "execution_count": 9,
   "metadata": {},
   "outputs": [],
   "source": [
    "hsu2 = hsu2.replace(r'\\\\n',' ', regex=True) "
   ]
  },
  {
   "cell_type": "code",
   "execution_count": 10,
   "metadata": {
    "scrolled": true
   },
   "outputs": [
    {
     "name": "stdout",
     "output_type": "stream",
     "text": [
      "                                                     逐字稿\n",
      "70     ﻿主席：請管委員碧玲質詢。\\n管委員碧玲：主席、各位列席官員、各位同仁。部長，文化工作百廢待...\n",
      "128    ﻿管委員碧玲：主席、各位列席官員、各位同仁。主委，今天是在這裡答詢的處女作，對不對？\\n主席...\n",
      "180    ﻿管委員碧玲：主席、各位列席官員、各位同仁。我要請教今天說了好幾個謊的杜部長，您在公務機\\n...\n",
      "231    ﻿管委員碧玲：主席、各位列席官員、各位同仁。主委，首先要恭喜你在張顯耀事件當中保住官位，\\n...\n",
      "249    ﻿管委員碧玲：主席、各位列席官員、各位同仁。為了中國船能不能來台從事海事工程施工一事，本\\n...\n",
      "...                                                  ...\n",
      "45738  ﻿管委員碧玲：（15時14分）主席、各位列席官員、各位同仁。今天我們要修的土石採取法，基本上...\n",
      "45812  ﻿管委員碧玲：（11時6分）主席、陳被提名人、各位列席官員、各位同仁。主席，我先談一個會議的...\n",
      "45886  ﻿管委員碧玲：（15時32分）主席、各位列席官員、各位同仁。今天審這個法案，本席感到特別欣慰...\n",
      "45981  ﻿管委員碧玲：（12 時）主席、各位列席官員、各位同仁。本席要請教陳署長，署長，今天我們修\\...\n",
      "46072  ﻿管委員碧玲：（15 時 34 分）主席、各位同仁。針對中國抽砂船違法盜採臺灣海域砂石情形日...\n",
      "\n",
      "[460 rows x 1 columns]\n"
     ]
    }
   ],
   "source": [
    "print(hsu2)"
   ]
  },
  {
   "cell_type": "code",
   "execution_count": 11,
   "metadata": {},
   "outputs": [],
   "source": [
    "hsu2.to_csv('管碧玲逐字稿.csv',encoding='utf8') "
   ]
  },
  {
   "cell_type": "markdown",
   "metadata": {},
   "source": [
    "### Text segmentation 管碧玲 using jieba"
   ]
  },
  {
   "cell_type": "code",
   "execution_count": 12,
   "metadata": {},
   "outputs": [
    {
     "name": "stderr",
     "output_type": "stream",
     "text": [
      "Building prefix dict from C:\\Users\\yangs\\Downloads\\NSYSU1092-20210517T073321Z-001\\NSYSU1092\\Lab\\KCC Data\\Dict\\dict.big.txt ...\n",
      "Loading model from cache C:\\Users\\yangs\\AppData\\Local\\Temp\\jieba.ud94f47acf17ebfaf1c653a84f3915436.cache\n",
      "Loading model cost 1.116 seconds.\n",
      "Prefix dict has been built successfully.\n"
     ]
    }
   ],
   "source": [
    "import jieba\n",
    "import jieba.analyse\n",
    "\n",
    "jieba.set_dictionary(\"KCC Data/Dict/dict.big.txt\") #更改預設辭典（dict.big為繁體版）\n",
    "jieba.load_userdict(\"KCC Data/Dict/KccDict2020.txt\") #領域辭典\n",
    "# jieba.analyse.set_stop_words(\"data/stopword.txt\")\n",
    "\n",
    "stopword_list = []\n",
    "with open(\"KCC Data/Dict/KccStopWord2020.txt\",\"r\", encoding='utf-8-sig') as stopwords: #斷詞辭典\n",
    "    for stopword in stopwords:\n",
    "        stopword_list.append(stopword.strip())"
   ]
  },
  {
   "cell_type": "code",
   "execution_count": 13,
   "metadata": {},
   "outputs": [],
   "source": [
    "# 開始斷詞\n",
    "ret = open(\"管碧玲逐字稿.csv\", \"r\", encoding=\"utf-8\").read()\n",
    "seg_list = jieba.cut(ret, cut_all=False)\n",
    "\n",
    "stayed_lst= []\n",
    "for word in seg_list:\n",
    "    if word not in stopword_list:\n",
    "        stayed_lst.append(word)"
   ]
  },
  {
   "cell_type": "code",
   "execution_count": 14,
   "metadata": {},
   "outputs": [
    {
     "name": "stderr",
     "output_type": "stream",
     "text": [
      "IOPub data rate exceeded.\n",
      "The notebook server will temporarily stop sending output\n",
      "to the client in order to avoid crashing it.\n",
      "To change this limit, set the config variable\n",
      "`--NotebookApp.iopub_data_rate_limit`.\n",
      "\n",
      "Current values:\n",
      "NotebookApp.iopub_data_rate_limit=1000000.0 (bytes/sec)\n",
      "NotebookApp.rate_limit_window=3.0 (secs)\n",
      "\n"
     ]
    },
    {
     "name": "stdout",
     "output_type": "stream",
     "text": [
      "Keywords: \n",
      "我們 / 管委員碧玲 / 你們 / 沒有 / 這個 / 部長 / 委員 / 一個 / 本席 / 他們 / 因為 / 主任委員 / 問題 / 現在 / 這樣 / 時候 / 這是 / 已經 / 什麼 / 應該 / 其實 / 還是 / 國家 / 主席 / 所以 / 認為 / 這些 / 各位 / 次長 / 有沒有 / 可以 / 處理 / 說明 / 然後 / 就是 / 這種 / 報告 / 謝謝 / 主委 / 相關 / 臺灣 / 規定 / 怎麼 / 裡面 / 為什麼 / 能夠 / 計畫 / 這裡 / 辦法 / 院長 / 局長 / 不會 / 如果 / 出來 / 時間 / 這麼 / 今天 / 當然 / 產業 / 中國 / 結果 / 資料 / 非常 / 覺得 / 之後 / 未來 / 必須 / 發展 / 台灣 / 最後 / 部分 / 變成 / 社會 / 好不好 / 這件 / 還有 / 同仁 / 告訴 / 董事長 / 這部分 / 整個 / 但是 / 知道 / 有關 / 以後 / 來看 / 的話 / 比較 / 希望 / 開始 / 官員 / 預算 / 不是 / 那個 / 10 / 通過 / 討論 / 審查 / 那麼 / 可是\n"
     ]
    }
   ],
   "source": [
    "print (\"\")\n",
    "print(stayed_lst)\n",
    "\n",
    "print (\"Word Segmens: \")        \n",
    "print(\" / \".join(stayed_lst))\n",
    "\n",
    "print(\"\")\n",
    "keywords = jieba.analyse.extract_tags(ret, 100)\n",
    "print (\"Keywords: \")\n",
    "print(\" / \".join(keywords))"
   ]
  },
  {
   "cell_type": "markdown",
   "metadata": {},
   "source": [
    "### Text segmentation 許淑華 using Ckip Tagger"
   ]
  },
  {
   "cell_type": "code",
   "execution_count": 15,
   "metadata": {},
   "outputs": [
    {
     "name": "stderr",
     "output_type": "stream",
     "text": [
      "C:\\Users\\yangs\\anaconda3\\lib\\site-packages\\tensorflow\\python\\keras\\layers\\legacy_rnn\\rnn_cell_impl.py:909: UserWarning: `tf.nn.rnn_cell.LSTMCell` is deprecated and will be removed in a future version. This class is equivalent as `tf.keras.layers.LSTMCell`, and will be replaced by that in Tensorflow 2.0.\n",
      "  warnings.warn(\"`tf.nn.rnn_cell.LSTMCell` is deprecated and will be \"\n",
      "C:\\Users\\yangs\\anaconda3\\lib\\site-packages\\tensorflow\\python\\keras\\engine\\base_layer_v1.py:1700: UserWarning: `layer.add_variable` is deprecated and will be removed in a future version. Please use `layer.add_weight` method instead.\n",
      "  warnings.warn('`layer.add_variable` is deprecated and '\n"
     ]
    }
   ],
   "source": [
    "from ckiptagger import data_utils, construct_dictionary, WS, POS, NER\n",
    "import gc\n",
    "import tensorflow as tf\n",
    "# import keras\n",
    "\n",
    "# 載入 ckiptagger 自訂詞典\n",
    "User_Dict = {}\n",
    "with open(\"KCC Data/Dict/KccDict2020.txt\",\"r\", encoding='utf-8-sig') as UDicts:\n",
    "    for udic in UDicts:\n",
    "        udWord = udic.strip().split(\" \")\n",
    "        if len(udWord) > 1:\n",
    "            User_Dict[udWord[0]] = udWord[1]\n",
    "        else:\n",
    "            User_Dict[udWord[0]] = 100    # 未給定權重者一律賦予預設值 150                \n",
    "dictionary = construct_dictionary(User_Dict)\n",
    "\n",
    "# 載入模型\n",
    "ws = WS(\"./data\")\n",
    "# pos = POS(\"./data\")\n",
    "# ner = NER(\"./data\")\n",
    "\n",
    "# 載入 StopWord\n",
    "stopword_list = []\n",
    "with open(\"KCC Data/Dict/KccStopWord2020.txt\",\"r\", encoding='utf-8-sig') as stopwords:\n",
    "    for stopword in stopwords:\n",
    "        stopword_list.append(stopword.strip())"
   ]
  },
  {
   "cell_type": "code",
   "execution_count": 16,
   "metadata": {
    "scrolled": true
   },
   "outputs": [
    {
     "name": "stdout",
     "output_type": "stream",
     "text": [
      "------------CKIPTagger Word Segment ws(str,....) + 刪除標點及停用字 ---------------\n"
     ]
    },
    {
     "name": "stderr",
     "output_type": "stream",
     "text": [
      "IOPub data rate exceeded.\n",
      "The notebook server will temporarily stop sending output\n",
      "to the client in order to avoid crashing it.\n",
      "To change this limit, set the config variable\n",
      "`--NotebookApp.iopub_data_rate_limit`.\n",
      "\n",
      "Current values:\n",
      "NotebookApp.iopub_data_rate_limit=1000000.0 (bytes/sec)\n",
      "NotebookApp.rate_limit_window=3.0 (secs)\n",
      "\n"
     ]
    }
   ],
   "source": [
    "# 開始斷詞\n",
    "# sentence_segmentation = True,  => To consider delimiters\n",
    "# segment_delimiter_set = {\",\", \"。\", \":\", \"?\", \"!\", \";\"}), # This is the defualt set of delimiters\n",
    "# recommend_dictionary = dictionary1, # words in this dictionary are encouraged\n",
    "# coerce_dictionary = dictionary2, # words in this dictionary are forced\n",
    "strCut = ws([ret], sentence_segmentation=True,\n",
    "                 segment_delimiter_set = {'\"',\"\\r\\n\",\"，\",\"「\",\"」\",\",\",\"？\",'\\n', \"。\", \":\", \"?\", \"!\", \";\", \"、\"},\n",
    "                 coerce_dictionary = dictionary)\n",
    "\n",
    "print(\"------------CKIPTagger Word Segment ws(str,....) + 刪除標點及停用字 ---------------\")\n",
    "ck_stayed_lst= []\n",
    "for word in strCut[0]:\n",
    "     # 刪除停用字\n",
    "    if word not in stopword_list:\n",
    "        ck_stayed_lst.append(word)\n",
    "        \n",
    "print(\" / \".join(ck_stayed_lst))"
   ]
  },
  {
   "cell_type": "code",
   "execution_count": 17,
   "metadata": {},
   "outputs": [
    {
     "name": "stderr",
     "output_type": "stream",
     "text": [
      "C:\\Users\\yangs\\anaconda3\\lib\\site-packages\\gensim\\similarities\\__init__.py:15: UserWarning: The gensim.similarities.levenshtein submodule is disabled, because the optional Levenshtein package <https://pypi.org/project/python-Levenshtein/> is unavailable. Install Levenhstein (e.g. `pip install python-Levenshtein`) to suppress this warning.\n",
      "  warnings.warn(msg)\n"
     ]
    }
   ],
   "source": [
    "from gensim import corpora, models, utils\n",
    "from gensim.models import LdaModel, CoherenceModel"
   ]
  },
  {
   "cell_type": "code",
   "execution_count": 18,
   "metadata": {},
   "outputs": [
    {
     "name": "stdout",
     "output_type": "stream",
     "text": [
      "fList[:1] =  [['逐字稿']]\n",
      "------------------------------\n"
     ]
    }
   ],
   "source": [
    "fList = []\n",
    "with open(\"管碧玲逐字稿.csv\",\"r\", encoding='utf-8') as files:\n",
    "     for file in files:\n",
    "        #simple_preprocess: tokenize,去除標點 - gensim.utils.simple_preprocess(doc, deacc=False, min_len=2, max_len=15) \n",
    "        fList.append(list(utils.simple_preprocess(file, deacc=True, min_len=2,)))\n",
    "print(\"fList[:1] = \", fList[:1])\n",
    "print(\"------------------------------\")"
   ]
  },
  {
   "cell_type": "code",
   "execution_count": 19,
   "metadata": {},
   "outputs": [
    {
     "name": "stdout",
     "output_type": "stream",
     "text": [
      "dict =  Dictionary(90735 unique tokens: ['逐字稿', '主席', '請管委員碧玲質詢', '各位列席官員', '各位同仁']...)\n",
      "------------------------------\n"
     ]
    }
   ],
   "source": [
    "dict = corpora.Dictionary(fList)\n",
    "print(\"dict = \", dict)\n",
    "print(\"------------------------------\")"
   ]
  },
  {
   "cell_type": "code",
   "execution_count": 20,
   "metadata": {},
   "outputs": [
    {
     "name": "stdout",
     "output_type": "stream",
     "text": [
      "corpus[:1] =  [[(0, 1)]]\n",
      "------------------------------\n",
      "print lists of [word:frequency]\n",
      "('逐字稿', 1)\n",
      "======================================================\n"
     ]
    }
   ],
   "source": [
    "# creat mapping matrix of [word_id, word_frequency] for each word segment\n",
    "corpus = [dict.doc2bow(text) for text in fList]   \n",
    "print(\"corpus[:1] = \", corpus[:1])   \n",
    "print(\"------------------------------\")\n",
    "\n",
    "print(\"print lists of [word:frequency]\")\n",
    "[[print((dict[id], freq)) for id,freq in cp] for cp in corpus[:1]]\n",
    "print(\"======================================================\")"
   ]
  },
  {
   "cell_type": "code",
   "execution_count": 21,
   "metadata": {
    "scrolled": true
   },
   "outputs": [
    {
     "name": "stdout",
     "output_type": "stream",
     "text": [
      "strTM =  00.168*\"主席\" + 0.052*\"謝謝\" + 0.051*\"各位委員\" + 0.034*\"謝謝委員\" + 0.017*\"我們\" + 0.011*\"跟委員報告\" + 0.007*\"是的\" + 0.006*\"報告委員\" + 0.005*\"沒有錯\" + 0.005*\"第一\" + 0.004*\"不對\" + 0.004*\"好的\" + 0.003*\"謝謝委員指教\" + 0.002*\"其實\" + 0.002*\"事實上\" + 0.002*\"委員\" + 0.001*\"陳恩民先生\" + 0.001*\"楊主任委員長鎮\" + 0.001*\"吳署長欣修\" + 0.001*\"李秘書長孟諺\"\n",
      "\n",
      "strTM =  10.000*\"地方埋單\" + 0.000*\"大學獨立的目標\" + 0.000*\"然後靜待整個過程走完\" + 0.000*\"也就越能夠促進地方自\" + 0.000*\"本席也要再次呼籲\" + 0.000*\"一個追求真理的態度\" + 0.000*\"而追求真理正是大學\" + 0.000*\"來看待這整個過程\" + 0.000*\"會往下規劃\" + 0.000*\"對於財政比較困難的縣市來講\" + 0.000*\"就會涉及中央立法\" + 0.000*\"一定要站在主管機關的立場來\" + 0.000*\"在修法通過之後\" + 0.000*\"希望內政部在多數委員有共識之下\" + 0.000*\"以解決他們所遇到的問題\" + 0.000*\"協助財政比較困難的縣市\" + 0.000*\"但是今年的預算確實比較困難\" + 0.000*\"但無\" + 0.000*\"今天我們要修的這個法\" + 0.000*\"的學術自由\"\n",
      "\n",
      "strTM =  20.158*\"好不好\" + 0.000*\"艘次\" + 0.000*\"萬元的支出\" + 0.000*\"但本席希望你們能夠精益求精\" + 0.000*\"三讀\" + 0.000*\"讓它走二讀\" + 0.000*\"我的疑慮很深\" + 0.000*\"細來討論\" + 0.000*\"你看看這個數字\" + 0.000*\"要求針對中國盜採砂石將重刑加重\" + 0.000*\"甚至一整年都不怕我們再抓他們\" + 0.000*\"然後到臨時會的時候就要完成三讀\" + 0.000*\"沒辦法再抓他們就肆無忌憚\" + 0.000*\"沒有位子\" + 0.000*\"每次要判決\" + 0.000*\"根本都沒有效\" + 0.000*\"過去這部分完全沒有入刑責\" + 0.000*\"賣太久\" + 0.000*\"我方驅離\" + 0.000*\"還要再拍賣\"\n",
      "\n",
      "strTM =  30.087*\"對不對\" + 0.062*\"各位同仁\" + 0.055*\"各位列席官員\" + 0.010*\"部長\" + 0.000*\"主委辛苦了\" + 0.000*\"莊副主任委員兼海巡署署長慶達\" + 0.000*\"陳恩民先生\" + 0.000*\"艘次\" + 0.000*\"我們來\" + 0.000*\"本席要請教部長\" + 0.000*\"林副主任委員碧霞\" + 0.000*\"的範圍\" + 0.000*\"到今年\" + 0.000*\"處一年以上七年以下有期徒刑\" + 0.000*\"我們可以專案直接廢棄\" + 0.000*\"甚至留下來作為公\" + 0.000*\"還可以不必曠日廢時等待拍賣\" + 0.000*\"機械設備沒入之後\" + 0.000*\"兩個法雙雙修法\" + 0.000*\"作為遏止中國違法盜採砂石的惡行\"\n",
      "\n",
      "strTM =  40.000*\"地方埋單\" + 0.000*\"大學獨立的目標\" + 0.000*\"然後靜待整個過程走完\" + 0.000*\"也就越能夠促進地方自\" + 0.000*\"本席也要再次呼籲\" + 0.000*\"一個追求真理的態度\" + 0.000*\"而追求真理正是大學\" + 0.000*\"來看待這整個過程\" + 0.000*\"會往下規劃\" + 0.000*\"對於財政比較困難的縣市來講\" + 0.000*\"就會涉及中央立法\" + 0.000*\"一定要站在主管機關的立場來\" + 0.000*\"在修法通過之後\" + 0.000*\"希望內政部在多數委員有共識之下\" + 0.000*\"以解決他們所遇到的問題\" + 0.000*\"協助財政比較困難的縣市\" + 0.000*\"但是今年的預算確實比較困難\" + 0.000*\"但無\" + 0.000*\"今天我們要修的這個法\" + 0.000*\"的學術自由\"\n",
      "\n",
      "strTM =  50.000*\"地方埋單\" + 0.000*\"大學獨立的目標\" + 0.000*\"然後靜待整個過程走完\" + 0.000*\"也就越能夠促進地方自\" + 0.000*\"本席也要再次呼籲\" + 0.000*\"一個追求真理的態度\" + 0.000*\"而追求真理正是大學\" + 0.000*\"來看待這整個過程\" + 0.000*\"會往下規劃\" + 0.000*\"對於財政比較困難的縣市來講\" + 0.000*\"就會涉及中央立法\" + 0.000*\"一定要站在主管機關的立場來\" + 0.000*\"在修法通過之後\" + 0.000*\"希望內政部在多數委員有共識之下\" + 0.000*\"以解決他們所遇到的問題\" + 0.000*\"協助財政比較困難的縣市\" + 0.000*\"但是今年的預算確實比較困難\" + 0.000*\"但無\" + 0.000*\"今天我們要修的這個法\" + 0.000*\"的學術自由\"\n",
      "\n",
      "strTM =  60.007*\"但是\" + 0.000*\"但是最近它比較被重視\" + 0.000*\"當然有可能是女性比較多\" + 0.000*\"就建置的系統\" + 0.000*\"下載的人次也變多\" + 0.000*\"說它是亞洲第一個共和國\" + 0.000*\"大家覺得好像情況沒有那麼嚴重\" + 0.000*\"替代役占了\" + 0.000*\"的兵員\" + 0.000*\"個月專業訓練占了將近\" + 0.000*\"核定員額以\" + 0.000*\"年來看有一萬六千多人\" + 0.000*\"和去年同期相比\" + 0.000*\"從人數可\" + 0.000*\"月已經降到去年同期的七倍多\" + 0.000*\"是去年的\" + 0.000*\"桃園市\" + 0.000*\"臺南市\" + 0.000*\"彰化縣\" + 0.000*\"南投縣\"\n",
      "\n",
      "strTM =  70.000*\"地方埋單\" + 0.000*\"大學獨立的目標\" + 0.000*\"然後靜待整個過程走完\" + 0.000*\"也就越能夠促進地方自\" + 0.000*\"本席也要再次呼籲\" + 0.000*\"一個追求真理的態度\" + 0.000*\"而追求真理正是大學\" + 0.000*\"來看待這整個過程\" + 0.000*\"會往下規劃\" + 0.000*\"對於財政比較困難的縣市來講\" + 0.000*\"就會涉及中央立法\" + 0.000*\"一定要站在主管機關的立場來\" + 0.000*\"在修法通過之後\" + 0.000*\"希望內政部在多數委員有共識之下\" + 0.000*\"以解決他們所遇到的問題\" + 0.000*\"協助財政比較困難的縣市\" + 0.000*\"但是今年的預算確實比較困難\" + 0.000*\"但無\" + 0.000*\"今天我們要修的這個法\" + 0.000*\"的學術自由\"\n",
      "\n",
      "strTM =  80.000*\"地方埋單\" + 0.000*\"大學獨立的目標\" + 0.000*\"然後靜待整個過程走完\" + 0.000*\"也就越能夠促進地方自\" + 0.000*\"本席也要再次呼籲\" + 0.000*\"一個追求真理的態度\" + 0.000*\"而追求真理正是大學\" + 0.000*\"來看待這整個過程\" + 0.000*\"會往下規劃\" + 0.000*\"對於財政比較困難的縣市來講\" + 0.000*\"就會涉及中央立法\" + 0.000*\"一定要站在主管機關的立場來\" + 0.000*\"在修法通過之後\" + 0.000*\"希望內政部在多數委員有共識之下\" + 0.000*\"以解決他們所遇到的問題\" + 0.000*\"協助財政比較困難的縣市\" + 0.000*\"但是今年的預算確實比較困難\" + 0.000*\"但無\" + 0.000*\"今天我們要修的這個法\" + 0.000*\"的學術自由\"\n",
      "\n",
      "strTM =  90.211*\"管委員碧玲\" + 0.023*\"花次長敬群\" + 0.021*\"陳次長宗彥\" + 0.015*\"陳署長家欽\" + 0.015*\"楊主任委員長鎮\" + 0.012*\"李主任委員進勇\" + 0.011*\"徐部長國勇\" + 0.011*\"主委\" + 0.010*\"吳署長欣修\" + 0.008*\"為什麼\" + 0.007*\"萬元\" + 0.007*\"另外\" + 0.007*\"第一個\" + 0.006*\"陳主任委員明通\" + 0.005*\"抓到就關\" + 0.005*\"沒有\" + 0.005*\"李秘書長孟諺\" + 0.005*\"然後\" + 0.005*\"所以\" + 0.005*\"拔路兒主任委員\"\n",
      "\n",
      "------------------------------\n",
      "Perplexity =  -17.496960756756533\n",
      "------------------------------\n",
      "\n",
      " Coherence Score:  0.42696746153347853\n"
     ]
    }
   ],
   "source": [
    "lda_model = models.ldamodel.LdaModel(corpus=corpus, id2word= dict, num_topics=10, passes=20, alpha='auto', chunksize=50, per_word_topics=True)\n",
    "# print(ldamodel.print_topics())   列出最重要的前若干个主题\n",
    "\n",
    "output = open(\"KCC Data/NewsCisTest-KccDict2020-LDA-TopicNum10.txt\", 'w', encoding='utf-8-sig')\n",
    "lstTM = lda_model.print_topics(num_topics=10, num_words=20)\n",
    "for tupleTM in lstTM:\n",
    "        str1 = \"\".join(str(x) for x in tupleTM)\n",
    "        #print(\"type(str1) = \", type(str1))\n",
    "        str1 += \"\\n\"\n",
    "        print(\"strTM = \", str1)\n",
    "        output.write(str1)\n",
    "output.close()\n",
    " \n",
    "print(\"------------------------------\")\n",
    "print(\"Perplexity = \", lda_model.log_perplexity(corpus))\n",
    "\n",
    "print(\"------------------------------\")\n",
    "cm = CoherenceModel(model=lda_model, texts=list(fList), dictionary=dict, coherence= 'c_v' )\n",
    "coher_lda = cm.get_coherence()\n",
    "print(\"\\n Coherence Score: \", coher_lda)"
   ]
  },
  {
   "cell_type": "code",
   "execution_count": 22,
   "metadata": {
    "scrolled": true
   },
   "outputs": [
    {
     "name": "stdout",
     "output_type": "stream",
     "text": [
      "Requirement already satisfied: pyLDAvis==3.2.2 in c:\\users\\yangs\\anaconda3\\lib\\site-packages (3.2.2)Note: you may need to restart the kernel to use updated packages.\n",
      "\n",
      "Requirement already satisfied: pandas>=0.17.0; python_version > \"3.5\" in c:\\users\\yangs\\anaconda3\\lib\\site-packages (from pyLDAvis==3.2.2) (1.2.0)\n",
      "Requirement already satisfied: funcy in c:\\users\\yangs\\anaconda3\\lib\\site-packages (from pyLDAvis==3.2.2) (1.16)\n",
      "Requirement already satisfied: numexpr in c:\\users\\yangs\\anaconda3\\lib\\site-packages (from pyLDAvis==3.2.2) (2.7.1)\n",
      "Requirement already satisfied: scipy>=0.18.0 in c:\\users\\yangs\\anaconda3\\lib\\site-packages (from pyLDAvis==3.2.2) (1.5.2)\n",
      "Requirement already satisfied: wheel>=0.23.0 in c:\\users\\yangs\\anaconda3\\lib\\site-packages (from pyLDAvis==3.2.2) (0.35.1)\n",
      "Requirement already satisfied: joblib>=0.8.4 in c:\\users\\yangs\\anaconda3\\lib\\site-packages (from pyLDAvis==3.2.2) (0.17.0)\n",
      "Requirement already satisfied: numpy>=1.9.2 in c:\\users\\yangs\\anaconda3\\lib\\site-packages (from pyLDAvis==3.2.2) (1.19.2)\n",
      "Requirement already satisfied: future in c:\\users\\yangs\\anaconda3\\lib\\site-packages (from pyLDAvis==3.2.2) (0.18.2)\n",
      "Requirement already satisfied: jinja2>=2.7.2 in c:\\users\\yangs\\anaconda3\\lib\\site-packages (from pyLDAvis==3.2.2) (2.11.2)\n",
      "Requirement already satisfied: python-dateutil>=2.7.3 in c:\\users\\yangs\\anaconda3\\lib\\site-packages (from pandas>=0.17.0; python_version > \"3.5\"->pyLDAvis==3.2.2) (2.8.1)\n",
      "Requirement already satisfied: pytz>=2017.3 in c:\\users\\yangs\\anaconda3\\lib\\site-packages (from pandas>=0.17.0; python_version > \"3.5\"->pyLDAvis==3.2.2) (2020.1)\n",
      "Requirement already satisfied: MarkupSafe>=0.23 in c:\\users\\yangs\\anaconda3\\lib\\site-packages (from jinja2>=2.7.2->pyLDAvis==3.2.2) (1.1.1)\n",
      "Requirement already satisfied: six>=1.5 in c:\\users\\yangs\\anaconda3\\lib\\site-packages (from python-dateutil>=2.7.3->pandas>=0.17.0; python_version > \"3.5\"->pyLDAvis==3.2.2) (1.15.0)\n"
     ]
    }
   ],
   "source": [
    "pip install pyLDAvis==3.2.2"
   ]
  },
  {
   "cell_type": "code",
   "execution_count": null,
   "metadata": {},
   "outputs": [],
   "source": [
    "pip install --upgrade pandas==1.2"
   ]
  },
  {
   "cell_type": "code",
   "execution_count": 23,
   "metadata": {},
   "outputs": [
    {
     "data": {
      "text/html": [
       "\n",
       "<link rel=\"stylesheet\" type=\"text/css\" href=\"https://cdn.jsdelivr.net/gh/bmabey/pyLDAvis@3.2.2/pyLDAvis/js/ldavis.v1.0.0.css\">\n",
       "\n",
       "\n",
       "<div id=\"ldavis_el1599625523658623526003293780\"></div>\n",
       "<script type=\"text/javascript\">\n",
       "\n",
       "var ldavis_el1599625523658623526003293780_data = {\"mdsDat\": {\"x\": [-0.3059816627310154, 0.04680739731608923, 0.04896617704595284, 0.04363246387955878, 0.028353375024550365, 0.02764444989297287, 0.02764444989297287, 0.02764444989297288, 0.02764444989297289, 0.02764444989297289], \"y\": [0.0029574225627962882, 0.1465496783508543, -0.05747245683923989, -0.036849603759244884, -0.00999592755785303, -0.009037822551462543, -0.009037822551462543, -0.009037822551462533, -0.009037822551462535, -0.009037822551462545], \"topics\": [1, 2, 3, 4, 5, 6, 7, 8, 9, 10], \"cluster\": [1, 1, 1, 1, 1, 1, 1, 1, 1, 1], \"Freq\": [75.32852587080103, 16.23182452437972, 5.251591794452843, 2.345410015258661, 0.33292651933326245, 0.1056543659099671, 0.102419752634875, 0.10080151119885301, 0.10068015135987701, 0.10016549467090488]}, \"tinfo\": {\"Term\": [\"\\u4e3b\\u5e2d\", \"\\u7ba1\\u59d4\\u54e1\\u78a7\\u73b2\", \"\\u8b1d\\u8b1d\", \"\\u5404\\u4f4d\\u59d4\\u54e1\", \"\\u597d\\u4e0d\\u597d\", \"\\u5c0d\\u4e0d\\u5c0d\", \"\\u8b1d\\u8b1d\\u59d4\\u54e1\", \"\\u5404\\u4f4d\\u540c\\u4ec1\", \"\\u5404\\u4f4d\\u5217\\u5e2d\\u5b98\\u54e1\", \"\\u6211\\u5011\", \"\\u82b1\\u6b21\\u9577\\u656c\\u7fa4\", \"\\u9673\\u6b21\\u9577\\u5b97\\u5f65\", \"\\u8ddf\\u59d4\\u54e1\\u5831\\u544a\", \"\\u9673\\u7f72\\u9577\\u5bb6\\u6b3d\", \"\\u4e3b\\u59d4\", \"\\u5f90\\u90e8\\u9577\\u570b\\u52c7\", \"\\u662f\\u7684\", \"\\u674e\\u4e3b\\u4efb\\u59d4\\u54e1\\u9032\\u52c7\", \"\\u5831\\u544a\\u59d4\\u54e1\", \"\\u70ba\\u4ec0\\u9ebc\", \"\\u90e8\\u9577\", \"\\u6c92\\u6709\\u932f\", \"\\u842c\\u5143\", \"\\u53e6\\u5916\", \"\\u7b2c\\u4e00\", \"\\u694a\\u4e3b\\u4efb\\u59d4\\u54e1\\u9577\\u93ae\", \"\\u7b2c\\u4e00\\u500b\", \"\\u4e0d\\u5c0d\", \"\\u597d\\u7684\", \"\\u9673\\u4e3b\\u4efb\\u59d4\\u54e1\\u660e\\u901a\", \"\\u7ba1\\u59d4\\u54e1\\u78a7\\u73b2\", \"\\u4e3b\\u59d4\", \"\\u9673\\u7f72\\u9577\\u5bb6\\u6b3d\", \"\\u82b1\\u6b21\\u9577\\u656c\\u7fa4\", \"\\u70ba\\u4ec0\\u9ebc\", \"\\u842c\\u5143\", \"\\u53e6\\u5916\", \"\\u7b2c\\u4e00\\u500b\", \"\\u6c92\\u6709\", \"\\u7136\\u5f8c\", \"\\u6240\\u4ee5\", \"\\u5f90\\u90e8\\u9577\\u570b\\u52c7\", \"\\u4f60\\u770b\\u770b\", \"\\u4eca\\u5e74\", \"\\u842c\\u4eba\", \"\\u63db\\u53e5\\u8a71\\u8aaa\", \"\\u5e74\\u7684\", \"\\u500b\\u6708\", \"\\u7b2c\\u4e8c\\u500b\", \"\\u7576\\u7136\", \"\\u5937\\u5c07\", \"\\u62d4\\u8def\\u5152\\u4e3b\\u4efb\\u59d4\\u54e1\", \"\\u5e74\\u7684\\u6642\\u5019\", \"\\u53ef\\u662f\", \"app\", \"\\u6c92\\u932f\", \"\\u57fa\\u672c\\u4e0a\", \"\\u5e74\\u5230\", \"\\u7f72\\u9577\", \"\\u6642\\u5019\", \"\\u9673\\u6b21\\u9577\\u5b97\\u5f65\", \"\\u674e\\u4e3b\\u4efb\\u59d4\\u54e1\\u9032\\u52c7\", \"\\u9673\\u4e3b\\u4efb\\u59d4\\u54e1\\u660e\\u901a\", \"\\u6293\\u5230\\u5c31\\u95dc\", \"\\u59d4\\u54e1\\u6703\\u7d00\\u9304\", \"\\u7acb\\u6cd5\\u9662\\u516c\\u5831\", \"\\u4e00\\u76f4\\u5230\", \"\\u694a\\u4e3b\\u4efb\\u59d4\\u54e1\\u9577\\u93ae\", \"\\u5433\\u7f72\\u9577\\u6b23\\u4fee\", \"\\u674e\\u79d8\\u66f8\\u9577\\u5b5f\\u8afa\", \"\\u9673\\u6069\\u6c11\\u5148\\u751f\", \"\\u4e3b\\u5e2d\", \"\\u8b1d\\u8b1d\", \"\\u5404\\u4f4d\\u59d4\\u54e1\", \"\\u8b1d\\u8b1d\\u59d4\\u54e1\", \"\\u6211\\u5011\", \"\\u8ddf\\u59d4\\u54e1\\u5831\\u544a\", \"\\u662f\\u7684\", \"\\u5831\\u544a\\u59d4\\u54e1\", \"\\u6c92\\u6709\\u932f\", \"\\u7b2c\\u4e00\", \"\\u4e0d\\u5c0d\", \"\\u597d\\u7684\", \"\\u8b1d\\u8b1d\\u59d4\\u54e1\\u6307\\u6559\", \"\\u5176\\u5be6\", \"\\u4e8b\\u5be6\\u4e0a\", \"\\u59d4\\u54e1\", \"\\u8b1d\\u8b1d\\u59d4\\u54e1\\u7684\\u6307\\u6559\", \"\\u5e74\\u4e86\", \"\\u5230\\u76ee\\u524d\\u70ba\\u6b62\", \"\\u518d\\u8005\", \"\\u7ba1\\u59d4\\u54e1\", \"\\u8521\\u526f\\u7f72\\u9577\\u84bc\\u67cf\", \"\\u6211\\u5011\\u6703\\u671d\\u9019\\u500b\\u65b9\\u5411\\u7814\\u8b70\", \"\\u4f46\\u662f\\u539f\", \"\\u9019\\u500b\\u662f\\u5c08\\u9580\\u734e\\u52f5\\u9752\\u5e74\\u5275\\u4f5c\\u7684\", \"\\u9084\\u6709\\u4e00\\u500b\\u6587\\u5b78\\u734e\", \"\\u4e5f\\u6709\\u6b77\\u53f2\\u7684\\u56e0\\u7d20\\u7cfe\\u7d50\\u5728\", \"\\u9019\\u78ba\\u5be6\\u662f\\u6211\\u5011\\u5fc5\\u9808\\u9762\\u5c0d\\u7684\", \"\\u6211\\u5011\\u9019\\u908a\\u53ea\\u6709\\u57fa\", \"\\u9019\\u500b\\u90e8\\u5206\\u5176\\u5be6\\u5728\\u5730\\u65b9\\u653f\\u5e9c\\u90fd\\u6709\", \"kacaw\", \"sra\", \"\\u5176\\u5be6\\u9019\\u4ef6\\u4e8b\\u60c5\\u4e0d\\u662f\\u53ea\\u6709\\u5728\\u5947\\u7f8e\\u90e8\\u843d\", \"\\u4e0d\\u662f\\u66ab\\u4ee3\\u4eba\", \"\\u518d\\u4e5f\\u4e0d\\u6703\\u59d1\\u606f\", \"\\u518d\\u4e5f\\u4e0d\\u6703\\u5fcd\\u8010\", \"\\u6211\\u5011\\u5e0c\\u671b\\u5f88\\u5feb\\u80fd\\u5920\\u9054\\u5230\\u904f\\u6b62\\u7684\\u6548\\u679c\", \"\\u76dc\\u63a1\\u7802\\u77f3\\u4e88\\u4ee5\\u91cd\\u7f70\", \"\\u6797\\u526f\\u4e3b\\u4efb\\u59d4\\u54e1\\u78a7\\u971e\", \"\\u856d\\u6b21\\u9577\\u5b97\\u714c\", \"\\u9673\\u6069\\u6c11\\u5148\\u751f\", \"\\u937e\\u526f\\u4e3b\\u4efb\\u59d4\\u54e1\\u8208\\u83ef\", \"\\u8607\\u90e8\\u9577\\u5efa\\u69ae\", \"\\u838a\\u526f\\u4e3b\\u4efb\\u59d4\\u54e1\\u517c\\u6d77\\u5de1\\u7f72\\u7f72\\u9577\\u6176\\u9054\", \"\\u674e\\u79d8\\u66f8\\u9577\\u5b5f\\u8afa\", \"\\u5433\\u7f72\\u9577\\u6b23\\u4fee\", \"\\u694a\\u4e3b\\u4efb\\u59d4\\u54e1\\u9577\\u93ae\", \"\\u5f35\\u53f8\\u9577\\u742c\\u5b9c\", \"\\u8881\\u7e3d\\u5e79\\u4e8b\\u5fb7\\u660e\", \"\\u674e\\u4e3b\\u4efb\\u59d4\\u54e1\\u4ef2\\u5a01\", \"\\u674e\\u4e3b\\u4efb\\u59d4\\u54e1\\u9032\\u52c7\", \"\\u9673\\u6b21\\u9577\\u5b97\\u5f65\", \"\\u5c0d\\u4e0d\\u5c0d\", \"\\u5404\\u4f4d\\u540c\\u4ec1\", \"\\u5404\\u4f4d\\u5217\\u5e2d\\u5b98\\u54e1\", \"\\u90e8\\u9577\", \"\\u4e5f\\u5f88\\u6176\\u5e78\\u6211\", \"\\u5f88\\u958b\\u5fc3\\u5728\\u9019\\u88e1\\u8cea\\u8a62\\u7684\\u5c0d\\u8c61\\u662f\\u4f60\", \"\\u4eca\\u5929\\u597d\\u5e7e\\u500b\\u59d4\\u54e1\\u5f88\\u95dc\\u5fc3\", \"\\u4f60\\u5011\\u5f48\\u6027\\u589e\\u52a0\\u5927\\u9678\\u65c5\\u5ba2\\u4f86\", \"\\u90e8\\u9577\\u525b\\u525b\\u63d0\\u5230\\u4eca\\u5e74\\u95d6\\u8d8a\\u5e73\", \"\\u95dc\\u65bc\\u5e73\\u4ea4\\u9053\\u5b89\\u5168\\u7684\\u554f\\u984c\", \"\\u6211\\u8981\\u5148\\u8ddf\\u4f60\\u7b97\\u4e00\\u7b46\\u5e33\", \"\\u6211\\u8981\\u66ff\\u4e2d\\u5357\\u90e8\\u7522\\u5b78\", \"\\u4f60\\u5011\\u4ea4\\u6d89\\u5f97\\u6eff\\u610f\\u55ce\", \"\\u5e03\\u62c9\\u683c\\u8ddf\\u5317\\u4eac\\u8981\\u7c3d\\u59d0\\u59b9\\u5e02\\u5408\\u7d04\", \"\\u672c\\u5e2d\\u8981\\u8acb\\u554f\\u90e8\\u9577\", \"\\u4eca\\u5929\\u4f86\\u7684\\u76f8\\u95dc\\u55ae\\u4f4d\\u6709\\u54ea\\u4e9b\", \"\\u672c\\u5e2d\\u8981\\u8acb\\u6559\\u90e8\\u9577\\u4ee5\\u53ca\\u76f8\\u95dc\\u5e55\\u50da\", \"\\u7531\\u5b78\\u754c\\u8f49\\u5165\\u653f\\u754c\", \"\\u9019\\u662f\\u4f60\\u5011\\u7684\\u7b2c\\u4e00\\u500b\\u5de5\\u4f5c\\u55ce\", \"\\u56e0\\u70ba\\u672c\\u5e2d\\u975e\\u5e38\\u95dc\\u5fc3\\u5217\\u7ba1\\u7684\\u91cd\\u5927\", \"\\u672c\\u5e2d\\u8cea\\u8a62\\u904e\\u570b\\u767c\\u6703\", \"\\u4e00\\u500b\\u65b0\\u6210\\u7acb\\u7684\\u6a5f\\u69cb\\u9996\\u5ea6\\u9032\\u7528\\u8077\\u54e1\", \"\\u73fe\\u5728\\u5168\\u7403\\u98a8\\u529b\\u767c\\u96fb\\u7814\\u767c\\u7684\\u6210\", \"\\u8acb\\u554f\\u90e8\\u9577\\u548c\\u9ec3\\u8463\\u4e8b\\u9577\", \"\\u6709\\u95dc\\u5fb7\\u7965\\u53f0\\u5317\\u6cb9\\u6c61\\u4e00\\u4e8b\", \"\\u8acb\\u554f\\u8fb2\\u59d4\\u6703\\u505a\\u4e86\\u4ec0\\u9ebc\", \"\\u9010\\u5b57\\u7a3f\", \"\\u6587\\u5316\\u5de5\\u4f5c\\u767e\\u5ee2\\u5f85\\u8209\", \"\\u672c\\u5e2d\\u9084\\u662f\\u4e00\\u6a23\\u671f\\u5f85\\u770b\\u5230\", \"\\u9f8d\\u90e8\\u9577\\u6709\\u6240\\u4f5c\\u70ba\\u8ddf\\u6210\\u7e3e\", \"\\u5169\\u500b\\u554f\\u984c\", \"\\u6c34\\u7684\\u554f\\u984c\\u90fd\\u5f88\\u6c88\\u91cd\", \"\\u5c31\\u662f\\u8001\\u820a\\u7ba1\\u7dda\", \"\\u9019\\u500b\\u8ddf\\u6c34\\u50f9\\u6709\\u95dc\", \"\\u4f60\\u5011\\u7684\\u7926\\u696d\\u6cd5\\u8349\\u6848\\u5176\\u5be6\\u9084\\u662f\\u4e0d\\u53ca\\u683c\", \"\\u6211\\u5011\\u5148\", \"\\u5c0c\\u662f\\u6709\\u5fc3\\u5c0c\\u53ef\\u4ee5\\u9054\\u6a19\", \"\\u672c\\u5e2d\\u6709\\u4e00\\u500b\\u5fc3\\u5f97\", \"\\u770b\\u5230\\u9019\\u6a23\\u7684\\u6578\\u5b57\", \"\\u5927\\u91cf\\u88c1\\u54e1\\u767e\\u4eba\", \"\\u9019\\u5e7e\\u5929\\u53ef\\u53e3\\u53ef\\u6a02\\u9ad8\\u96c4\\u5ee0\\u95dc\\u5ee0\", \"\\u4eca\\u5929\\u4f60\\u8981\\u548c\\u5510\\u9cf3\\u653f\\u59d4\\u76f4\\u64ad\", \"\\u525b\\u624d\\u9ec3\\u662d\\u9806\\u59d4\\u54e1\\u8aaa\", \"\\u6211\\u8981\\u5148\\u554f\\u4e00\\u4e0b\", \"\\u56e0\\u70ba\\u6211\\u7684\\u8cea\\u8a62\\u6642\\u9593\\u6709\\u9650\", \"\\u606d\\u559c\\u4e86\", \"\\u6211\\u5c31\\u4e0d\\u8aaa\", \"\\u525b\\u624d\\u9673\\u8d85\\u660e\\u59d4\\u54e1\\u8aaa\\u6fb3\\u6d32\\u5982\\u4f55\", \"\\u6211\\u5148\\u66ff\\u4f60\\u56de\\u7b54\", \"\\u4e0d\\u4ee3\\u8868\\u5169\\u5cb8\\u4e4b\\u9593\\u7684\\u95dc\\u4fc2\\u7dca\\u5f35\", \"\\u4eca\\u5929\\u5728\\u570b\\u6703\\u7684\\u6bbf\\u5802\", \"\\u57fa\\u672c\\u4e0a\\u5b89\\u5b9a\\u6c11\\u5fc3\\u662f\\u975e\\u5e38\\u91cd\\u8981\\u7684\", \"\\u5c31\\u662f\\u4e5f\\u628a\\u5b83\\u7576\\u505a\\u4e0d\\u53ef\\u5c0f\\u770b\", \"\\u5c31\\u662f\\u5c0d\\u65bc\\u9019\\u6b21\\u7684\\u6c11\\u5175\\u885d\\u7a81\\u4e8b\\u4ef6\", \"\\u6211\\u5011\\u7e3d\\u662f\\u628a\\u5b83\\u5e38\\u614b\\u5316\", \"\\u6211\\u5011\\u9762\\u5c0d\\u81fa\\u6d77\\u5c40\\u52e2\", \"\\u6216\\u662f\\u4e2d\\u570b\\u5982\\u4f55\\u6709\\u8822\\u52d5\\u7684\\u8de1\\u8c61\", \"\\u6700\\u58de\\u7684\\u60c5\\u6cc1\\u662f\\u4ec0\\u9ebc\", \"\\u7576\\u4f5c\\u662f\\u7a81\\u767c\\u4e8b\\u4ef6\", \"\\u77ac\\u606f\\u842c\\u8b8a\", \"\\u800c\\u4e14\\u4e00\\u5b9a\\u8981\\u6709\", \"\\u8aaa\\u5230\\u5e95\\u6211\\u5011\\u8981\\u505a\\u6700\\u60e1\\u52a3\\u60c5\\u5883\\u7684\\u5047\\u8a2d\", \"\\u9019\\u500b\\u672c\\u5e2d\\u540c\\u610f\", \"\\u9019\\u7a2e\\u5047\\u8a2d\\u4f60\\u5011\\u4e00\\u5b9a\\u6703\\u6709\\u5427\", \"\\u9762\\u5c0d\\u6c11\\u610f\\u6a5f\\u95dc\\u6216\\u5168\\u570b\\u4eba\\u6c11\", \"\\u6211\\u5011\\u7e3d\\u662f\\u5f88\\u5e0c\\u671b\\u77ef\\u6b63\\u5de5\\u4f5c\\u5728\", \"\\u60a8\\u98a8\\u96f2\\u969b\\u6703\\u7ad9\\u5728\\u9019\\u500b\\u4f4d\\u7f6e\", \"\\u6b63\\u5728\\u57f7\\u884c\\u570b\\u5bb6\\u6700\", \"\\u4e26\\u901a\\u904e\\u4e00\\u8b80\", \"\\u4e5f\\u53ef\\u4ee5\\u8aaa\\u662f\\u7387\\u5148\\u63d0\\u51fa\\u4fee\\u6cd5\\u7684\\u4eba\", \"\\u4eca\\u5929\\u5be9\\u9019\\u500b\\u6cd5\\u6848\", \"\\u4ed6\\u7684\\u7248\\u672c\\u662f\\u5728\", \"\\u4f46\\u672c\\u5e2d\\u5f9e\", \"\\u5f88\\u591a\\u59d4\\u54e1\\u90fd\\u975e\\u5e38\\u52aa\\u529b\", \"\\u6211\\u5011\\u6301\\u7e8c\\u7684\\u95dc\\u5fc3\", \"\\u6211\\u7684\\u7248\\u672c\\u5728\", \"\\u65e5\\u63d0\\u51fa\\u4f86\", \"\\u65e5\\u7684\\u6642\\u5019\\u901a\\u904e\\u4e00\\u8b80\", \"\\u6708\\u5c31\\u958b\\u59cb\\u95dc\\u6ce8\\u9019\\u500b\\u8ab2\\u984c\\u5230\\u73fe\\u5728\", \"\\u672c\\u5e2d\\u611f\\u5230\\u7279\\u5225\\u6b23\\u6170\", \"\\u672c\\u5e2d\\u771f\\u7684\\u6b23\\u6170\", \"\\u76f4\\u81f3\", \"\\u80fd\\u5920\\u5b89\\u6392\\u5be9\\u67e5\", \"\\u8cf4\\u745e\\u9686\\u59d4\\u54e1\\u4e5f\\u975e\\u5e38\\u95dc\\u5fc3\", \"\\u900f\\u904e\\u5f88\\u591a\\u7684\\u516c\\u807d\\u6703\", \"\\u900f\\u904e\\u5f88\\u591a\\u7684\\u8655\\u7406\", \"\\u96a8\\u5f8c\\u53c8\\u6709\\u5f88\\u591a\\u59d4\\u54e1\\u63d0\\u51fa\\u5f88\\u591a\\u7684\\u7248\\u672c\", \"\\u4e5f\\u4e0d\\u5fc5\\u554a\", \"\\u4f60\\u524d\\u9762\\u6709\\u8aaa\\u662f\\u6eff\\u4e82\\u7684\", \"\\u53ef\\u662f\\u5728\\u9078\\u7f77\\u6cd5\\u7684\\u9ad4\\u7cfb\\u9078\\u653f\", \"\\u6211\\u5011\\u4e82\\u5728\\u54ea\\u88e1\\u5462\", \"\\u6211\\u5011\\u570b\\u5bb6\\u7684\\u5236\\u5ea6\\u78ba\\u5be6\\u662f\\u4e82\", \"\\u6211\\u5011\\u5728\\u516c\\u6295\\u7684\\u90e8\\u5206\\u9078\\u653f\\u6a5f\\u95dc\", \"\\u8258\\u6b21\", \"\\u672c\\u5e2d\\u8981\\u8acb\\u6559\\u90e8\\u9577\", \"\\u4e3b\\u59d4\\u8f9b\\u82e6\\u4e86\", \"\\u6797\\u526f\\u4e3b\\u4efb\\u59d4\\u54e1\\u78a7\\u971e\", \"\\u838a\\u526f\\u4e3b\\u4efb\\u59d4\\u54e1\\u517c\\u6d77\\u5de1\\u7f72\\u7f72\\u9577\\u6176\\u9054\", \"\\u9673\\u6069\\u6c11\\u5148\\u751f\", \"\\u6211\\u5011\\u53ef\\u4ee5\\u5c08\\u6848\\u76f4\\u63a5\\u5ee2\\u68c4\", \"\\u6a5f\\u68b0\\u8a2d\\u5099\\u6c92\\u5165\\u4e4b\\u5f8c\", \"\\u751a\\u81f3\\u7559\\u4e0b\\u4f86\\u4f5c\\u70ba\\u516c\", \"\\u9084\\u53ef\\u4ee5\\u4e0d\\u5fc5\\u66e0\\u65e5\\u5ee2\\u6642\\u7b49\\u5f85\\u62cd\\u8ce3\", \"\\u4f5c\\u70ba\\u904f\\u6b62\\u4e2d\\u570b\\u9055\\u6cd5\\u76dc\\u63a1\\u7802\\u77f3\\u7684\\u60e1\\u884c\", \"\\u6708\\u6642\\u5c31\\u63d0\\u51fa\\u61c9\\u8a72\\u8981\\u4fee\\u6cd5\", \"\\u9019\\u500b\\u4fee\\u6cd5\\u662f\\u672c\\u5e2d\\u6700\\u65e9\\u5728\\u4eca\\u5e74\", \"\\u5169\\u500b\\u6cd5\\u96d9\\u96d9\\u4fee\\u6cd5\", \"\\u6211\\u5011\\u5c0d\\u4e2d\\u570b\", \"\\u672c\\u6848\\u4ee5\\u53ca\\u63a5\\u4e0b\\u4f86\\u7684\\u7b2c\\u4e5d\\u6848\", \"\\u4e5f\\u5c31\\u662f\\u6211\\u5011\\u6240\\u5283\\u7684\\u7981\\u6b62\\u6d77\\u57df\\u53ca\\u9650\", \"\\u99ac\\u7956\\u53ca\\u5357\\u6c99\\u7b49\\u5730\\u4e4b\\u6c34\\u57df\", \"\\u8b93\\u4e2d\\u570b\\u7684\\u62bd\\u7802\\u8239\\u518d\\u7121\\u50e5\\u5016\\u7684\\u6a5f\\u6703\", \"\\u8b93\\u9055\\u6cd5\\u8239\\u8236\\u53ef\\u4ee5\\u5feb\\u901f\\u53bb\\u5316\", \"\\u4ee5\\u4e0b\\u4e4b\\u7f70\\u91d1\", \"\\u5236\\u6d77\\u57df\\u9055\\u6cd5\\u62bd\\u7802\\u8005\", \"\\u540c\\u6642\\u5f97\\u4f75\\u79d1\\u4e00\\u5104\\u5143\", \"\\u5c07\\u5f15\\u5165\\u5211\\u8cac\", \"\\u518d\\u4e5f\\u4e0d\\u6703\\u59d1\\u606f\", \"\\u8655\\u4e00\\u5e74\\u4ee5\\u4e0a\\u4e03\\u5e74\\u4ee5\\u4e0b\\u6709\\u671f\\u5f92\\u5211\", \"\\u6211\\u5011\\u4f86\", \"\\u7684\\u7bc4\\u570d\", \"\\u5230\\u4eca\\u5e74\", \"\\u597d\\u4e0d\\u597d\", \"\\u9010\\u5b57\\u7a3f\", \"\\u6587\\u5316\\u5de5\\u4f5c\\u767e\\u5ee2\\u5f85\\u8209\", \"\\u672c\\u5e2d\\u9084\\u662f\\u4e00\\u6a23\\u671f\\u5f85\\u770b\\u5230\", \"\\u9f8d\\u90e8\\u9577\\u6709\\u6240\\u4f5c\\u70ba\\u8ddf\\u6210\\u7e3e\", \"\\u8acb\\u6587\\u5316\\u90e8\\u9f8d\\u90e8\\u9577\\u7b54\\u5fa9\", \"\\u9f8d\\u90e8\\u9577\\u61c9\\u53f0\", \"\\u4e0d\\u8981\\u8b93\\u5b83\\u8b8a\\u6210\\u662f\\u9f8d\\u61c9\\u53f0\\u62db\\u724c\", \"\\u5236\\u5ea6\\u6027\", \"\\u5e0c\\u671b\\u662f\\u9019\\u6a23\", \"\\u7684\\u58b3\\u5834\", \"\\u771f\\u7684\\u662f\\u767e\\u5ee2\\u5f85\\u8209\", \"\\u800c\\u4e14\\u662f\\u6839\\u672c\\u6027\", \"\\u8981\\u62ff\\u51fa\\u4e00\\u500b\\u5927\\u7684\\u6210\\u5c31\", \"\\u57fa\\u790e\\u6027\\u7684\", \"\\u76ee\\u524d\\u78ba\\u5be6\\u9084\\u8981\\u518d\\u52a0\\u6cb9\", \"\\u80fd\\u5920\\u6c38\\u7e8c\", \"\\u9577\\u9060\\u5730\\u6709\\u6210\\u7e3e\", \"\\u4f46\\u6642\\u6a5f\\u4e0d\\u5c0d\", \"\\u51fa\\u4e86\\u884c\\u653f\\u9662\", \"\\u535a\\u7269\\u9928\\u6cd5\\u7b49\\u4e00\\u5207\", \"\\u6587\\u8cc7\\u6cd5\", \"\\u76ee\\u524d\\u96d6\\u7136\\u6709\\u4e9b\\u9032\\u5ea6\", \"\\u9019\\u500b\\u6703\\u671f\\u53c8\", \"\\u96fb\\u5f71\\u6cd5\", \"\\u53c8\\u6703\\u8e49\\u8dce\", \"\\u662f\\u5be9\\u9810\\u7b97\\u7684\\u6703\\u671f\", \"\\u773c\\u770b\\u8457\\u4eca\\u5e74\\u61c9\\u8a72\\u4e5f\\u662f\", \"\\u7acb\\u6cd5\\u4e0a\\u7684\\u69d3\\u9f9c\", \"\\u9019\\u4e9b\\u771f\\u7684\\u90fd\\u5f88\\u4e0d\\u5bb9\\u6613\", \"\\u6240\\u4ee5\\u9084\\u662f\\u8acb\\u4e3b\\u59d4\\u56de\\u53bb\\u5f8c\\u91cd\\u65b0\\u5be9\\u8b70\", \"\\u56de\\u53bb\\u4ee5\\u5f8c\\u7acb\\u5373\\u53bb\\u4e86\\u89e3\", \"\\u88dc\\u6551\\u63aa\\u65bd\", \"\\u56e0\\u70ba\\u4ed6\\u5011\\u9673\\u6297\\u7684\\u5c0d\\u8c61\\u662f\\u6e2f\\u52d9\\u516c\\u53f8\", \"\\u5c24\\u5176\\u662f\\u4ea4\\u901a\\u90e8\\u6e2f\\u52d9\\u516c\\u53f8\", \"\\u99ac\\u4e0a\\u5594\", \"\\u4e26\\u5728\\u4e00\\u500b\\u6708\\u5167\\u63d0\\u51fa\\u89e3\\u6c7a\\u65b9\\u6848\", \"\\u8acb\\u4f60\\u5011\\u5118\\u5feb\\u548c\\u5c0d\\u65b9\\u5171\\u540c\\u7814\\u7a76\", \"\\u5118\\u5feb\", \"\\u53d6\\u6d88\", \"\\u537b\\u6c92\\u8fa6\\u6cd5\\u8655\\u7406\\u597d\\u9019\\u4ef6\\u4e8b\", \"\\u6211\\u6c92\\u8fa6\\u6cd5\\u63a5\\u53d7\\u9019\\u6a23\\u7684\\u884c\\u653f\\u6548\\u7387\", \"\\u5011\\u8981\\u5c07\\u90a3\", \"\\u5e0c\\u671b\\u4e3b\\u59d4\\u5728\\u5167\\u90e8\\u597d\\u597d\\u8003\\u91cf\", \"\\u767c\\u5c55\\u6230\\u7565\\u554f\\u984c\", \"\\u95dc\\u65bc\\u672c\\u5e2d\\u7684\\u5efa\\u8b70\", \"\\u60c5\\u9084\\u8981\\u6f01\\u6c11\\u53bb\\u6253\\u5b98\\u53f8\\u55ce\", \"\\u8d95\\u5feb\\u53bb\\u89e3\\u6c7a\", \"\\u4f60\\u770b\\u770b\\u7e3d\\u9ad4\\u6aa2\\u7684\\u65b9\", \"\\u56de\\u53bb\\u671d\\u9019\\u6a23\\u7684\\u65b9\\u5411\\u52aa\\u529b\", \"\\u672c\\u5e2d\\u5e0c\\u671b\\u4e09\\u500b\\u6708\\u9001\\u51fa\", \"\\u5957\\u8207\\u8abf\\u6574\\u90fd\\u80fd\\u5920\\u5728\\u56db\\u6708\\u5e95\\u524d\\u5b8c\\u6210\", \"\\u671d\\u9019\\u76ee\\u6a19\\u4f86\\u52aa\\u529b\", \"\\u7528\\u66f8\\u9762\\u8aaa\\u660e\", \"\\u8acb\\u539f\\u6c11\\u6703\\u7528\\u66f8\\u9762\\u8ddf\\u9ad8\\u6f5e\\u59d4\\u54e1\\u8aaa\\u660e\", \"\\u9019\\u771f\\u662f\\u4e00\\u500b\\u5f88\\u5927\\u7684\\u6f0f\\u6d1e\", \"\\u5920\\u8981\\u6c42\\u4ed6\\u51fa\\u793a\\u9019\\u500b\\u5354\\u8b70\\u7684\\u5167\\u5bb9\", \"\\u5143\\u7684\\u60c5\\u5f62\", \"\\u5c31\\u53ef\\u4ee5\\u7701\\u4e0b\\u5f88\\u591a\\u9322\", \"\\u842c\\u5143\\u7684\\u652f\\u51fa\", \"\\u6211\\u7684\\u7591\\u616e\\u5f88\\u6df1\", \"\\u8b93\\u5b83\\u8d70\\u4e8c\\u8b80\", \"\\u7d30\\u4f86\\u8a0e\\u8ad6\", \"\\u4e0d\\u6703\\u653e\\u4eba\", \"\\u4e0d\\u80fd\\u67e5\\u6263\", \"\\u4eca\\u5929\\u5982\\u679c\\u80fd\\u5920\\u51fa\\u59d4\\u54e1\\u6703\", \"\\u4eca\\u5e74\\u7c21\\u76f4\\u662f\\u66b4\\u589e\", \"\\u4ed6\\u5011\\u5c31\\u597d\\u5e7e\\u500b\\u6708\", \"\\u4f9d\\u73fe\\u884c\\u6cd5\", \"\\u5230\\u4eca\\u5e74\\u662f\", \"\\u53bb\\u5e74\\u4e2d\\u570b\\u8d8a\\u754c\\u62bd\\u7802\", \"\\u53c8\\u5360\\u8239\\u5e2d\", \"\\u53ea\\u8981\\u6211\\u5011\\u9019\\u908a\\u6293\\u4e00\\u8258\", \"\\u56e0\\u70ba\\u62cd\\u8ce3\\u4e0d\\u597d\\u8ce3\", \"\\u5982\\u679c\\u518d\\u52a0\\u4e0a\\u9055\\u6cd5\\u6355\\u9b5a\\u7684\\u9a45\\u96e2\", \"\\u5c0d\\u6d77\\u5de1\\u6a5f\\u95dc\\u800c\\u8a00\\u662f\\u6c89\\u91cd\\u7684\\u8ca0\\u64d4\", \"\\u5c24\\u5176\\u662f\\u6f8e\\u6e56\\u6d77\\u57df\\u90e8\\u5206\\u7684\\u62cd\\u8ce3\", \"\\u6211\\u5011\\u53ea\\u80fd\\u9a45\\u96e2\", \"\\u6211\\u5011\\u6bcf\\u5e74\\u6709\\u4e94\\u5343\\u591a\\u6b21\\u7684\\u9a45\\u96e2\", \"\\u6211\\u5011\\u8ca0\\u64d4\\u4e0d\\u8d77\", \"\\u6211\\u65b9\\u9a45\\u96e2\", \"\\u6240\\u4ee5\\u9019\\u6b21\\u7684\\u4fee\\u6cd5\\u6211\\u5011\\u5e0c\\u671b\\u8d95\\u5feb\\u901a\\u904e\", \"\\u6708\\u5c31\\u9996\\u5ea6\\u63d0\\u51fa\\u5927\\u9678\\u7901\\u5c64\\u6cd5\\u4fee\\u6b63\\u6848\", \"\\u672c\\u5e2d\\u5df2\\u7d93\\u975e\\u5e38\\u6e05\\u695a\\u4e86\", \"\\u6839\\u672c\\u90fd\\u6c92\\u6709\\u6548\", \"\\u6bcf\\u6b21\\u8981\\u5224\\u6c7a\", \"\\u6c92\\u6709\\u4f4d\\u5b50\", \"\\u6c92\\u8fa6\\u6cd5\\u518d\\u6293\\u4ed6\\u5011\\u5c31\\u8086\\u7121\\u5fcc\\u619a\", \"\\u8258\\u6b21\", \"\\u4e09\\u8b80\", \"\\u4f60\\u770b\\u770b\\u9019\\u500b\\u6578\\u5b57\", \"\\u4f46\\u672c\\u5e2d\\u5e0c\\u671b\\u4f60\\u5011\\u80fd\\u5920\\u7cbe\\u76ca\\u6c42\\u7cbe\", \"\\u4f46\\u662f\", \"\\u9010\\u5b57\\u7a3f\", \"\\u6587\\u5316\\u5de5\\u4f5c\\u767e\\u5ee2\\u5f85\\u8209\", \"\\u672c\\u5e2d\\u9084\\u662f\\u4e00\\u6a23\\u671f\\u5f85\\u770b\\u5230\", \"\\u9f8d\\u90e8\\u9577\\u6709\\u6240\\u4f5c\\u70ba\\u8ddf\\u6210\\u7e3e\", \"\\u8acb\\u6587\\u5316\\u90e8\\u9f8d\\u90e8\\u9577\\u7b54\\u5fa9\", \"\\u9f8d\\u90e8\\u9577\\u61c9\\u53f0\", \"\\u4e0d\\u8981\\u8b93\\u5b83\\u8b8a\\u6210\\u662f\\u9f8d\\u61c9\\u53f0\\u62db\\u724c\", \"\\u5236\\u5ea6\\u6027\", \"\\u5e0c\\u671b\\u662f\\u9019\\u6a23\", \"\\u7684\\u58b3\\u5834\", \"\\u771f\\u7684\\u662f\\u767e\\u5ee2\\u5f85\\u8209\", \"\\u800c\\u4e14\\u662f\\u6839\\u672c\\u6027\", \"\\u8981\\u62ff\\u51fa\\u4e00\\u500b\\u5927\\u7684\\u6210\\u5c31\", \"\\u57fa\\u790e\\u6027\\u7684\", \"\\u76ee\\u524d\\u78ba\\u5be6\\u9084\\u8981\\u518d\\u52a0\\u6cb9\", \"\\u80fd\\u5920\\u6c38\\u7e8c\", \"\\u9577\\u9060\\u5730\\u6709\\u6210\\u7e3e\", \"\\u4f46\\u6642\\u6a5f\\u4e0d\\u5c0d\", \"\\u51fa\\u4e86\\u884c\\u653f\\u9662\", \"\\u535a\\u7269\\u9928\\u6cd5\\u7b49\\u4e00\\u5207\", \"\\u6587\\u8cc7\\u6cd5\", \"\\u76ee\\u524d\\u96d6\\u7136\\u6709\\u4e9b\\u9032\\u5ea6\", \"\\u9019\\u500b\\u6703\\u671f\\u53c8\", \"\\u96fb\\u5f71\\u6cd5\", \"\\u53c8\\u6703\\u8e49\\u8dce\", \"\\u662f\\u5be9\\u9810\\u7b97\\u7684\\u6703\\u671f\", \"\\u773c\\u770b\\u8457\\u4eca\\u5e74\\u61c9\\u8a72\\u4e5f\\u662f\", \"\\u7acb\\u6cd5\\u4e0a\\u7684\\u69d3\\u9f9c\", \"\\u9019\\u4e9b\\u771f\\u7684\\u90fd\\u5f88\\u4e0d\\u5bb9\\u6613\", \"\\u4e0b\\u8f09\\u7684\\u4eba\\u6b21\\u4e5f\\u8b8a\\u591a\", \"\\u4f46\\u662f\\u6700\\u8fd1\\u5b83\\u6bd4\\u8f03\\u88ab\\u91cd\\u8996\", \"\\u5c31\\u5efa\\u7f6e\\u7684\\u7cfb\\u7d71\", \"\\u7576\\u7136\\u6709\\u53ef\\u80fd\\u662f\\u5973\\u6027\\u6bd4\\u8f03\\u591a\", \"\\u500b\\u6708\\u5c08\\u696d\\u8a13\\u7df4\\u5360\\u4e86\\u5c07\\u8fd1\", \"\\u5927\\u5bb6\\u89ba\\u5f97\\u597d\\u50cf\\u60c5\\u6cc1\\u6c92\\u6709\\u90a3\\u9ebc\\u56b4\\u91cd\", \"\\u66ff\\u4ee3\\u5f79\\u5360\\u4e86\", \"\\u5e74\\u4f86\\u770b\\u6709\\u4e00\\u842c\\u516d\\u5343\\u591a\\u4eba\", \"\\u6838\\u5b9a\\u54e1\\u984d\\u4ee5\", \"\\u6843\\u5712\\u5e02\", \"\\u96f2\\u6797\\u7e23\\u548c\\u5c4f\\u6771\\u7e23\\u9019\", \"\\u5728\\u9632\\u6cbb\\u53ca\\u7d13\\u56f0\\u632f\\u8208\\u7279\", \"\\u6210\\u672c\\u7d50\\u69cb\", \"\\u6bd4\\u8f03\\u4e0d\\u597d\\u7684\\u8fb2\\u85e5\", \"\\u548c\\u53bb\\u5e74\\u540c\\u671f\\u76f8\\u6bd4\", \"\\u5f9e\\u4eba\\u6578\\u53ef\", \"\\u662f\\u53bb\\u5e74\\u7684\", \"\\u6708\\u5df2\\u7d93\\u964d\\u5230\\u53bb\\u5e74\\u540c\\u671f\\u7684\\u4e03\\u500d\\u591a\", \"\\u6c92\\u6709\\u7d81\\u5728\\u4e00\\u8d77\", \"\\u6d88\\u9632\\u9632\\u8b77\\u8a08\\u756b\\u662f\\u53e6\\u6848\\u7533\\u8acb\", \"\\u4e0d\\u898b\\u5f97\\u90fd\\u8981\\u653e\\u4efb\", \"\\u4f60\\u770b\\u7f8e\\u6fc3\\u611b\\u9109\\u5354\\u9032\\u6703\\u6709\\u9019\\u80a1\\u529b\\u91cf\", \"\\u6211\\u5011\\u624d\\u4f86\", \"\\u7576\\u5730\\u65b9\\u6709\\u6848\\u5b50\", \"\\u4f46\\u4ed6\\u662f\\u627f\\u8463\\u4e8b\\u6703\\u4e4b\\u547d\", \"\\u500b\\u4eba\\u90fd\\u5c0d\\u8463\\u4e8b\\u6703\\u8ca0\\u8cac\", \"\\u6240\\u4ee5\\u57fa\\u672c\\u4e0a\\u9084\\u662f\", \"\\u884c\\u9577\\u96d6\\u7136\\u7531\\u8463\\u4e8b\\u9577\\u63d0\\u540d\", \"\\u9078\\u8209\\u7f77\\u514d\\u9078\\u653f\\u5c31\\u5728\\u4f60\\u5011\", \"\\u4e8b\\u5be6\\u4e0a\\u9023\\u81ea\\u4e3b\\u6aa2\\u9a57\\u90fd\\u6c92\\u6709\", \"\\u8aaa\\u5b83\\u662f\\u4e9e\\u6d32\\u7b2c\\u4e00\\u500b\\u5171\\u548c\\u570b\", \"\\u5176\\u5be6\\u6211\\u5011\\u64c1\\u6709\\u5f88\\u591a\\u7684\\u8a0a\\u606f\", \"\\u5373\\u4ee5\\u6700\\u58de\\u7684\\u6253\\u7b97\\u4f86\\u770b\", \"\\u56e0\\u70ba\\u4f60\\u5011\\u9700\\u8981\\u8d85\\u524d\\u90e8\\u7f72\", \"\\u56e0\\u70ba\\u6211\\u5011\\u7121\\u6cd5\\u770b\\u5230\\u4ed6\\u7684\\u52d5\\u6a5f\", \"\\u5982\\u679c\\u662f\\u71b1\\u5340\", \"\\u7684\\u5175\\u54e1\", \"\\u81fa\\u5357\\u5e02\", \"\\u65b0\\u5317\\u5e02\", \"\\u500b\\u7e23\\u5e02\", \"\\u5357\\u6295\\u7e23\", \"\\u5f70\\u5316\\u7e23\", \"\\u6211\\u60f3\\u8acb\\u554f\", \"\\u9010\\u5b57\\u7a3f\", \"\\u6587\\u5316\\u5de5\\u4f5c\\u767e\\u5ee2\\u5f85\\u8209\", \"\\u672c\\u5e2d\\u9084\\u662f\\u4e00\\u6a23\\u671f\\u5f85\\u770b\\u5230\", \"\\u9f8d\\u90e8\\u9577\\u6709\\u6240\\u4f5c\\u70ba\\u8ddf\\u6210\\u7e3e\", \"\\u8acb\\u6587\\u5316\\u90e8\\u9f8d\\u90e8\\u9577\\u7b54\\u5fa9\", \"\\u9f8d\\u90e8\\u9577\\u61c9\\u53f0\", \"\\u4e0d\\u8981\\u8b93\\u5b83\\u8b8a\\u6210\\u662f\\u9f8d\\u61c9\\u53f0\\u62db\\u724c\", \"\\u5236\\u5ea6\\u6027\", \"\\u5e0c\\u671b\\u662f\\u9019\\u6a23\", \"\\u7684\\u58b3\\u5834\", \"\\u771f\\u7684\\u662f\\u767e\\u5ee2\\u5f85\\u8209\", \"\\u800c\\u4e14\\u662f\\u6839\\u672c\\u6027\", \"\\u8981\\u62ff\\u51fa\\u4e00\\u500b\\u5927\\u7684\\u6210\\u5c31\", \"\\u57fa\\u790e\\u6027\\u7684\", \"\\u76ee\\u524d\\u78ba\\u5be6\\u9084\\u8981\\u518d\\u52a0\\u6cb9\", \"\\u80fd\\u5920\\u6c38\\u7e8c\", \"\\u9577\\u9060\\u5730\\u6709\\u6210\\u7e3e\", \"\\u4f46\\u6642\\u6a5f\\u4e0d\\u5c0d\", \"\\u51fa\\u4e86\\u884c\\u653f\\u9662\", \"\\u535a\\u7269\\u9928\\u6cd5\\u7b49\\u4e00\\u5207\", \"\\u6587\\u8cc7\\u6cd5\", \"\\u76ee\\u524d\\u96d6\\u7136\\u6709\\u4e9b\\u9032\\u5ea6\", \"\\u9019\\u500b\\u6703\\u671f\\u53c8\", \"\\u96fb\\u5f71\\u6cd5\", \"\\u53c8\\u6703\\u8e49\\u8dce\", \"\\u662f\\u5be9\\u9810\\u7b97\\u7684\\u6703\\u671f\", \"\\u773c\\u770b\\u8457\\u4eca\\u5e74\\u61c9\\u8a72\\u4e5f\\u662f\", \"\\u7acb\\u6cd5\\u4e0a\\u7684\\u69d3\\u9f9c\", \"\\u9019\\u4e9b\\u771f\\u7684\\u90fd\\u5f88\\u4e0d\\u5bb9\\u6613\", \"\\u6587\\u5316\\u90e8\\u4e5f\\u5728\\u7cfe\\u6b63\\u4e4b\\u5217\", \"\\u4e3b\\u5e2d\", \"\\u8acb\\u7ba1\\u59d4\\u54e1\\u78a7\\u73b2\\u8cea\\u8a62\", \"\\u5404\\u4f4d\\u5217\\u5e2d\\u5b98\\u54e1\", \"\\u5404\\u4f4d\\u540c\\u4ec1\", \"\\u7ba1\\u59d4\\u54e1\\u78a7\\u73b2\", \"\\u90e8\\u9577\", \"\\u5404\\u4f4d\\u59d4\\u54e1\", \"\\u8b1d\\u8b1d\", \"\\u4f46\\u662f\", \"\\u597d\\u4e0d\\u597d\", \"\\u6709\\u95dc\\u4fee\\u6cd5\\u7684\\u90e8\\u5206\", \"\\u7121\\u8ad6\\u662f\", \"\\u9010\\u5b57\\u7a3f\", \"\\u6587\\u5316\\u5de5\\u4f5c\\u767e\\u5ee2\\u5f85\\u8209\", \"\\u672c\\u5e2d\\u9084\\u662f\\u4e00\\u6a23\\u671f\\u5f85\\u770b\\u5230\", \"\\u9f8d\\u90e8\\u9577\\u6709\\u6240\\u4f5c\\u70ba\\u8ddf\\u6210\\u7e3e\", \"\\u8acb\\u6587\\u5316\\u90e8\\u9f8d\\u90e8\\u9577\\u7b54\\u5fa9\", \"\\u9f8d\\u90e8\\u9577\\u61c9\\u53f0\", \"\\u4e0d\\u8981\\u8b93\\u5b83\\u8b8a\\u6210\\u662f\\u9f8d\\u61c9\\u53f0\\u62db\\u724c\", \"\\u5236\\u5ea6\\u6027\", \"\\u5e0c\\u671b\\u662f\\u9019\\u6a23\", \"\\u7684\\u58b3\\u5834\", \"\\u771f\\u7684\\u662f\\u767e\\u5ee2\\u5f85\\u8209\", \"\\u800c\\u4e14\\u662f\\u6839\\u672c\\u6027\", \"\\u8981\\u62ff\\u51fa\\u4e00\\u500b\\u5927\\u7684\\u6210\\u5c31\", \"\\u57fa\\u790e\\u6027\\u7684\", \"\\u76ee\\u524d\\u78ba\\u5be6\\u9084\\u8981\\u518d\\u52a0\\u6cb9\", \"\\u80fd\\u5920\\u6c38\\u7e8c\", \"\\u9577\\u9060\\u5730\\u6709\\u6210\\u7e3e\", \"\\u4f46\\u6642\\u6a5f\\u4e0d\\u5c0d\", \"\\u51fa\\u4e86\\u884c\\u653f\\u9662\", \"\\u535a\\u7269\\u9928\\u6cd5\\u7b49\\u4e00\\u5207\", \"\\u6587\\u8cc7\\u6cd5\", \"\\u76ee\\u524d\\u96d6\\u7136\\u6709\\u4e9b\\u9032\\u5ea6\", \"\\u9019\\u500b\\u6703\\u671f\\u53c8\", \"\\u96fb\\u5f71\\u6cd5\", \"\\u53c8\\u6703\\u8e49\\u8dce\", \"\\u662f\\u5be9\\u9810\\u7b97\\u7684\\u6703\\u671f\", \"\\u773c\\u770b\\u8457\\u4eca\\u5e74\\u61c9\\u8a72\\u4e5f\\u662f\", \"\\u7acb\\u6cd5\\u4e0a\\u7684\\u69d3\\u9f9c\", \"\\u9019\\u4e9b\\u771f\\u7684\\u90fd\\u5f88\\u4e0d\\u5bb9\\u6613\", \"\\u6587\\u5316\\u90e8\\u4e5f\\u5728\\u7cfe\\u6b63\\u4e4b\\u5217\", \"\\u4e3b\\u5e2d\", \"\\u8acb\\u7ba1\\u59d4\\u54e1\\u78a7\\u73b2\\u8cea\\u8a62\", \"\\u5404\\u4f4d\\u5217\\u5e2d\\u5b98\\u54e1\", \"\\u5404\\u4f4d\\u540c\\u4ec1\", \"\\u7ba1\\u59d4\\u54e1\\u78a7\\u73b2\", \"\\u90e8\\u9577\", \"\\u5404\\u4f4d\\u59d4\\u54e1\", \"\\u8b1d\\u8b1d\", \"\\u4f46\\u662f\", \"\\u597d\\u4e0d\\u597d\", \"\\u6709\\u95dc\\u4fee\\u6cd5\\u7684\\u90e8\\u5206\", \"\\u7121\\u8ad6\\u662f\", \"\\u9010\\u5b57\\u7a3f\", \"\\u6587\\u5316\\u5de5\\u4f5c\\u767e\\u5ee2\\u5f85\\u8209\", \"\\u672c\\u5e2d\\u9084\\u662f\\u4e00\\u6a23\\u671f\\u5f85\\u770b\\u5230\", \"\\u9f8d\\u90e8\\u9577\\u6709\\u6240\\u4f5c\\u70ba\\u8ddf\\u6210\\u7e3e\", \"\\u8acb\\u6587\\u5316\\u90e8\\u9f8d\\u90e8\\u9577\\u7b54\\u5fa9\", \"\\u9f8d\\u90e8\\u9577\\u61c9\\u53f0\", \"\\u4e0d\\u8981\\u8b93\\u5b83\\u8b8a\\u6210\\u662f\\u9f8d\\u61c9\\u53f0\\u62db\\u724c\", \"\\u5236\\u5ea6\\u6027\", \"\\u5e0c\\u671b\\u662f\\u9019\\u6a23\", \"\\u7684\\u58b3\\u5834\", \"\\u771f\\u7684\\u662f\\u767e\\u5ee2\\u5f85\\u8209\", \"\\u800c\\u4e14\\u662f\\u6839\\u672c\\u6027\", \"\\u8981\\u62ff\\u51fa\\u4e00\\u500b\\u5927\\u7684\\u6210\\u5c31\", \"\\u57fa\\u790e\\u6027\\u7684\", \"\\u76ee\\u524d\\u78ba\\u5be6\\u9084\\u8981\\u518d\\u52a0\\u6cb9\", \"\\u80fd\\u5920\\u6c38\\u7e8c\", \"\\u9577\\u9060\\u5730\\u6709\\u6210\\u7e3e\", \"\\u4f46\\u6642\\u6a5f\\u4e0d\\u5c0d\", \"\\u51fa\\u4e86\\u884c\\u653f\\u9662\", \"\\u535a\\u7269\\u9928\\u6cd5\\u7b49\\u4e00\\u5207\", \"\\u6587\\u8cc7\\u6cd5\", \"\\u76ee\\u524d\\u96d6\\u7136\\u6709\\u4e9b\\u9032\\u5ea6\", \"\\u9019\\u500b\\u6703\\u671f\\u53c8\", \"\\u96fb\\u5f71\\u6cd5\", \"\\u53c8\\u6703\\u8e49\\u8dce\", \"\\u662f\\u5be9\\u9810\\u7b97\\u7684\\u6703\\u671f\", \"\\u773c\\u770b\\u8457\\u4eca\\u5e74\\u61c9\\u8a72\\u4e5f\\u662f\", \"\\u7acb\\u6cd5\\u4e0a\\u7684\\u69d3\\u9f9c\", \"\\u9019\\u4e9b\\u771f\\u7684\\u90fd\\u5f88\\u4e0d\\u5bb9\\u6613\", \"\\u6587\\u5316\\u90e8\\u4e5f\\u5728\\u7cfe\\u6b63\\u4e4b\\u5217\", \"\\u4e3b\\u5e2d\", \"\\u8acb\\u7ba1\\u59d4\\u54e1\\u78a7\\u73b2\\u8cea\\u8a62\", \"\\u5404\\u4f4d\\u5217\\u5e2d\\u5b98\\u54e1\", \"\\u5404\\u4f4d\\u540c\\u4ec1\", \"\\u7ba1\\u59d4\\u54e1\\u78a7\\u73b2\", \"\\u90e8\\u9577\", \"\\u5404\\u4f4d\\u59d4\\u54e1\", \"\\u8b1d\\u8b1d\", \"\\u4f46\\u662f\", \"\\u597d\\u4e0d\\u597d\", \"\\u6709\\u95dc\\u4fee\\u6cd5\\u7684\\u90e8\\u5206\", \"\\u7121\\u8ad6\\u662f\", \"\\u9010\\u5b57\\u7a3f\", \"\\u6587\\u5316\\u5de5\\u4f5c\\u767e\\u5ee2\\u5f85\\u8209\", \"\\u672c\\u5e2d\\u9084\\u662f\\u4e00\\u6a23\\u671f\\u5f85\\u770b\\u5230\", \"\\u9f8d\\u90e8\\u9577\\u6709\\u6240\\u4f5c\\u70ba\\u8ddf\\u6210\\u7e3e\", \"\\u8acb\\u6587\\u5316\\u90e8\\u9f8d\\u90e8\\u9577\\u7b54\\u5fa9\", \"\\u9f8d\\u90e8\\u9577\\u61c9\\u53f0\", \"\\u4e0d\\u8981\\u8b93\\u5b83\\u8b8a\\u6210\\u662f\\u9f8d\\u61c9\\u53f0\\u62db\\u724c\", \"\\u5236\\u5ea6\\u6027\", \"\\u5e0c\\u671b\\u662f\\u9019\\u6a23\", \"\\u7684\\u58b3\\u5834\", \"\\u771f\\u7684\\u662f\\u767e\\u5ee2\\u5f85\\u8209\", \"\\u800c\\u4e14\\u662f\\u6839\\u672c\\u6027\", \"\\u8981\\u62ff\\u51fa\\u4e00\\u500b\\u5927\\u7684\\u6210\\u5c31\", \"\\u57fa\\u790e\\u6027\\u7684\", \"\\u76ee\\u524d\\u78ba\\u5be6\\u9084\\u8981\\u518d\\u52a0\\u6cb9\", \"\\u80fd\\u5920\\u6c38\\u7e8c\", \"\\u9577\\u9060\\u5730\\u6709\\u6210\\u7e3e\", \"\\u4f46\\u6642\\u6a5f\\u4e0d\\u5c0d\", \"\\u51fa\\u4e86\\u884c\\u653f\\u9662\", \"\\u535a\\u7269\\u9928\\u6cd5\\u7b49\\u4e00\\u5207\", \"\\u6587\\u8cc7\\u6cd5\", \"\\u76ee\\u524d\\u96d6\\u7136\\u6709\\u4e9b\\u9032\\u5ea6\", \"\\u9019\\u500b\\u6703\\u671f\\u53c8\", \"\\u96fb\\u5f71\\u6cd5\", \"\\u53c8\\u6703\\u8e49\\u8dce\", \"\\u662f\\u5be9\\u9810\\u7b97\\u7684\\u6703\\u671f\", \"\\u773c\\u770b\\u8457\\u4eca\\u5e74\\u61c9\\u8a72\\u4e5f\\u662f\", \"\\u7acb\\u6cd5\\u4e0a\\u7684\\u69d3\\u9f9c\", \"\\u9019\\u4e9b\\u771f\\u7684\\u90fd\\u5f88\\u4e0d\\u5bb9\\u6613\", \"\\u6587\\u5316\\u90e8\\u4e5f\\u5728\\u7cfe\\u6b63\\u4e4b\\u5217\", \"\\u4e3b\\u5e2d\", \"\\u8acb\\u7ba1\\u59d4\\u54e1\\u78a7\\u73b2\\u8cea\\u8a62\", \"\\u5404\\u4f4d\\u5217\\u5e2d\\u5b98\\u54e1\", \"\\u5404\\u4f4d\\u540c\\u4ec1\", \"\\u7ba1\\u59d4\\u54e1\\u78a7\\u73b2\", \"\\u90e8\\u9577\", \"\\u5404\\u4f4d\\u59d4\\u54e1\", \"\\u8b1d\\u8b1d\", \"\\u4f46\\u662f\", \"\\u597d\\u4e0d\\u597d\", \"\\u6709\\u95dc\\u4fee\\u6cd5\\u7684\\u90e8\\u5206\", \"\\u7121\\u8ad6\\u662f\", \"\\u9010\\u5b57\\u7a3f\", \"\\u6587\\u5316\\u5de5\\u4f5c\\u767e\\u5ee2\\u5f85\\u8209\", \"\\u672c\\u5e2d\\u9084\\u662f\\u4e00\\u6a23\\u671f\\u5f85\\u770b\\u5230\", \"\\u9f8d\\u90e8\\u9577\\u6709\\u6240\\u4f5c\\u70ba\\u8ddf\\u6210\\u7e3e\", \"\\u8acb\\u6587\\u5316\\u90e8\\u9f8d\\u90e8\\u9577\\u7b54\\u5fa9\", \"\\u9f8d\\u90e8\\u9577\\u61c9\\u53f0\", \"\\u4e0d\\u8981\\u8b93\\u5b83\\u8b8a\\u6210\\u662f\\u9f8d\\u61c9\\u53f0\\u62db\\u724c\", \"\\u5236\\u5ea6\\u6027\", \"\\u5e0c\\u671b\\u662f\\u9019\\u6a23\", \"\\u7684\\u58b3\\u5834\", \"\\u771f\\u7684\\u662f\\u767e\\u5ee2\\u5f85\\u8209\", \"\\u800c\\u4e14\\u662f\\u6839\\u672c\\u6027\", \"\\u8981\\u62ff\\u51fa\\u4e00\\u500b\\u5927\\u7684\\u6210\\u5c31\", \"\\u57fa\\u790e\\u6027\\u7684\", \"\\u76ee\\u524d\\u78ba\\u5be6\\u9084\\u8981\\u518d\\u52a0\\u6cb9\", \"\\u80fd\\u5920\\u6c38\\u7e8c\", \"\\u9577\\u9060\\u5730\\u6709\\u6210\\u7e3e\", \"\\u4f46\\u6642\\u6a5f\\u4e0d\\u5c0d\", \"\\u51fa\\u4e86\\u884c\\u653f\\u9662\", \"\\u535a\\u7269\\u9928\\u6cd5\\u7b49\\u4e00\\u5207\", \"\\u6587\\u8cc7\\u6cd5\", \"\\u76ee\\u524d\\u96d6\\u7136\\u6709\\u4e9b\\u9032\\u5ea6\", \"\\u9019\\u500b\\u6703\\u671f\\u53c8\", \"\\u96fb\\u5f71\\u6cd5\", \"\\u53c8\\u6703\\u8e49\\u8dce\", \"\\u662f\\u5be9\\u9810\\u7b97\\u7684\\u6703\\u671f\", \"\\u773c\\u770b\\u8457\\u4eca\\u5e74\\u61c9\\u8a72\\u4e5f\\u662f\", \"\\u7acb\\u6cd5\\u4e0a\\u7684\\u69d3\\u9f9c\", \"\\u9019\\u4e9b\\u771f\\u7684\\u90fd\\u5f88\\u4e0d\\u5bb9\\u6613\", \"\\u6587\\u5316\\u90e8\\u4e5f\\u5728\\u7cfe\\u6b63\\u4e4b\\u5217\", \"\\u4e3b\\u5e2d\", \"\\u8acb\\u7ba1\\u59d4\\u54e1\\u78a7\\u73b2\\u8cea\\u8a62\", \"\\u5404\\u4f4d\\u5217\\u5e2d\\u5b98\\u54e1\", \"\\u5404\\u4f4d\\u540c\\u4ec1\", \"\\u7ba1\\u59d4\\u54e1\\u78a7\\u73b2\", \"\\u90e8\\u9577\", \"\\u5404\\u4f4d\\u59d4\\u54e1\", \"\\u8b1d\\u8b1d\", \"\\u4f46\\u662f\", \"\\u597d\\u4e0d\\u597d\", \"\\u6709\\u95dc\\u4fee\\u6cd5\\u7684\\u90e8\\u5206\", \"\\u7121\\u8ad6\\u662f\"], \"Freq\": [3434.0, 20010.0, 1055.0, 1054.0, 468.0, 579.0, 692.0, 412.0, 361.0, 351.0, 2200.0, 2032.0, 220.0, 1433.0, 1074.0, 1080.0, 136.0, 1184.0, 126.0, 805.0, 64.0, 105.0, 703.0, 692.0, 99.0, 1412.0, 617.0, 84.0, 78.0, 524.0, 20009.825159994558, 1074.6289285631567, 1433.5578913380505, 2200.0584221088384, 804.8736962755976, 703.2250598787053, 691.8907948983165, 617.6771228905745, 494.8177935726357, 486.2841079457736, 476.67369833016414, 1080.3740220273946, 464.1798606209522, 443.6034272214998, 438.91316232351187, 430.39212738520376, 394.9086710850967, 378.0247348154057, 361.5432983376629, 360.4847541845649, 476.6193357559233, 476.6193357559233, 329.58299245008277, 326.88264547509937, 322.6786137726707, 320.8217271287788, 319.5094393571839, 311.32782770076113, 309.20655935936105, 292.9192844110163, 2026.3322665095848, 1178.6850883048662, 523.7704867228532, 496.2139253307834, 419.49807097995307, 419.49807097995307, 397.20658461789697, 1389.6156804125167, 956.0180189405274, 492.3611714016124, 422.8299350195715, 3434.6053697940906, 1055.3973478705004, 1053.9187632156923, 692.4113345822702, 351.11162352846327, 219.99747541035467, 135.64799909446702, 126.49288481213047, 105.22240830056406, 99.46871164005023, 83.82606985326237, 78.37661022854576, 55.77926964475611, 48.97949874131049, 46.320485444015475, 36.43879370154261, 15.020161345290916, 14.89718027059888, 6.977577694691329, 3.5800980240527056, 3.5620863875612065, 0.19507879600315084, 0.16643666833226192, 0.24552554866778212, 0.24552554866778212, 0.24552554866778212, 0.14522909523690405, 0.14522909523690405, 0.18407430966790714, 0.18407430966790714, 0.18683254721231166, 0.18683254721231166, 0.2604901578262873, 0.25802878940833385, 0.6660842183845948, 0.6660842183845948, 0.6660842183845948, 0.6660842183845948, 0.7040967956162014, 0.3855280941796038, 23.70184221529071, 11.941663464815043, 4.904405600170254, 15.118478770497378, 17.26930246093396, 19.420297716296197, 22.892663391991512, 4.982219825338205, 2.2206224678063426, 5.9247933568895865, 5.898009570006806, 5.686561160544615, 578.63891775759, 411.9234201461954, 361.2733400645611, 64.25126992800674, 0.05680962553104923, 0.05680962553104923, 0.056809577347404355, 0.056809577347404355, 0.056809577347404355, 0.056809577347404355, 0.056809577347404355, 0.056809577347404355, 0.056809577347404355, 0.056809577347404355, 0.056809577347404355, 0.056809577347404355, 0.056809577347404355, 0.056809577347404355, 0.056809577347404355, 0.05680958337035996, 0.05680958337035996, 0.05680958337035996, 0.05680958337035996, 0.05680958337035996, 0.056809589393315575, 0.056809589393315575, 0.05680957132444874, 0.05680957132444874, 0.05680957132444874, 0.05680957132444874, 0.056809589393315575, 0.056809589393315575, 0.05680958337035996, 0.05680958337035996, 0.05681001100020822, 0.05681001100020822, 0.056828862851265434, 0.056828862851265434, 0.056828862851265434, 0.05681052897439063, 0.05681052897439063, 0.10354461707663558, 0.056854743491518735, 0.056854743491518735, 0.05680963757696045, 0.05680963757696045, 0.05680963757696045, 0.05681142639477642, 0.05681142639477642, 0.06155844295009368, 0.06155844295009368, 0.06155844295009368, 0.06155844295009368, 0.06155844295009368, 0.06155844295009368, 0.06155844295009368, 0.06155844295009368, 0.06155844295009368, 0.06155844295009368, 0.06155844295009368, 0.06155844295009368, 0.06155844295009368, 0.06155844295009368, 0.06155844295009368, 0.06155844295009368, 0.05747063286326217, 0.05681410661002257, 0.05681410661002257, 0.0933445791324308, 0.0933445791324308, 0.0933445791324308, 0.0933445791324308, 0.0933445791324308, 0.0933445791324308, 0.0933445791324308, 0.0933445791324308, 0.0933445791324308, 0.0933445791324308, 0.0933445791324308, 0.0933445791324308, 0.0933445791324308, 0.0933445791324308, 0.0933445791324308, 0.0933445791324308, 0.0933445791324308, 0.0933445791324308, 0.0933445791324308, 0.09276927845853865, 0.09276927845853865, 0.09276927845853865, 0.09276927845853865, 0.09276927845853865, 0.09276927845853865, 0.1409759611383984, 0.11393170995319937, 0.21914695036492896, 0.11291613122426507, 0.183645084224438, 0.1716217590893095, 0.10413106021840499, 0.10413106021840499, 0.10413106021840499, 0.10413106021840499, 0.10410387259678447, 0.10410387259678447, 0.10410387259678447, 0.10410387259678447, 0.10410387259678447, 0.10410387259678447, 0.10407673315880882, 0.10407673315880882, 0.10407673315880882, 0.10407673315880882, 0.1040496057667444, 0.10172526287572473, 0.10172526287572473, 0.10172526287572473, 0.10171202441929542, 0.10513890547233691, 0.1188113399451229, 0.11005807014488009, 0.10516551489021894, 467.6051299943841, 0.02736779962099976, 0.02736779962099976, 0.02736779962099976, 0.02736779962099976, 0.02736779962099976, 0.02736779962099976, 0.02736779962099976, 0.02736779962099976, 0.02736779962099976, 0.02736779962099976, 0.02736779962099976, 0.02736779962099976, 0.02736779962099976, 0.02736779962099976, 0.02736779962099976, 0.02736779962099976, 0.02736779962099976, 0.02736779962099976, 0.02736779962099976, 0.02736779962099976, 0.02736779962099976, 0.02736779962099976, 0.02736779962099976, 0.02736779962099976, 0.02736779962099976, 0.02736779962099976, 0.02736779962099976, 0.02736779962099976, 0.02736779962099976, 0.02736780231090807, 0.02736780231090807, 0.02736780231090807, 0.02736780231090807, 0.02736780231090807, 0.02736780231090807, 0.027367810380633, 0.027367810380633, 0.027367810380633, 0.02736780231090807, 0.02736780231090807, 0.02736780231090807, 0.02736780231090807, 0.02736820579715454, 0.02736820579715454, 0.02736820579715454, 0.02736780231090807, 0.02736780231090807, 0.03142133811909724, 0.03142133811909724, 0.03142133811909724, 0.027406133504322746, 0.027406133504322746, 0.02737610605786043, 0.02737610605786043, 0.02736780500081638, 0.02736780500081638, 0.02736780231090807, 0.02736780231090807, 0.041746785188293944, 0.036243211267173225, 0.036243211267173225, 0.0362321987825529, 0.0359065584825683, 0.0359065584825683, 0.0359065584825683, 0.0359065584825683, 0.0359065584825683, 0.0359065584825683, 0.0359065584825683, 0.0359065584825683, 0.0359065584825683, 0.0359065584825683, 0.0359065584825683, 0.0359065584825683, 0.0359065584825683, 0.0359065584825683, 0.0359065584825683, 0.0359065584825683, 0.0359065584825683, 0.0359065584825683, 0.0359065584825683, 0.0359065584825683, 0.0359065584825683, 0.0359065584825683, 0.0359065584825683, 0.0359065584825683, 0.0359065584825683, 0.045890723434958924, 0.0362798693376192, 0.035911010280821026, 0.0364563004236591, 2.989733037334508, 0.004593906358318685, 0.004593906358318685, 0.004593906358318685, 0.004593906358318685, 0.004593906358318685, 0.004593906358318685, 0.004593906358318685, 0.004593906358318685, 0.004593906358318685, 0.004593906358318685, 0.004593906358318685, 0.004593906358318685, 0.004593906358318685, 0.004593906358318685, 0.004593906358318685, 0.004593906358318685, 0.004593906358318685, 0.004593906358318685, 0.004593906358318685, 0.004593906358318685, 0.004593906358318685, 0.004593906358318685, 0.004593906358318685, 0.004593906358318685, 0.004593906358318685, 0.004593906358318685, 0.004593906358318685, 0.004593906358318685, 0.004593906358318685, 0.0052020031501827605, 0.0052020031501827605, 0.0052020031501827605, 0.0052020031501827605, 0.004823402954163657, 0.004823402954163657, 0.004823402954163657, 0.004823045181888719, 0.004823045181888719, 0.004731257311083445, 0.004731257311083445, 0.004726171370099272, 0.004726171370099272, 0.00459392086775993, 0.004784712765426026, 0.004784712765426026, 0.004784712765426026, 0.004784712765426026, 0.004728499753591875, 0.004728499753591875, 0.004708211736455762, 0.004708211736455762, 0.004708211736455762, 0.004708211736455762, 0.004594826562355611, 0.004594826562355611, 0.004594826562355611, 0.004594826562355611, 0.00459549628761734, 0.004593936140855979, 0.004861186684650805, 0.004686884003306142, 0.004686884003306142, 0.004686884003306142, 0.004686884003306142, 0.004686884003306142, 0.004823402954163657, 0.004731257311083445, 0.004731245474434006, 0.004731168727126363, 0.004731257311083445, 0.004731257311083445, 0.004718351544922406, 0.0014683550336800843, 0.0014683550336800843, 0.0014683550336800843, 0.0014683550336800843, 0.0014683550336800843, 0.0014683550336800843, 0.0014683550336800843, 0.0014683550336800843, 0.0014683550336800843, 0.0014683550336800843, 0.0014683550336800843, 0.0014683550336800843, 0.0014683550336800843, 0.0014683550336800843, 0.0014683550336800843, 0.0014683550336800843, 0.0014683550336800843, 0.0014683550336800843, 0.0014683550336800843, 0.0014683550336800843, 0.0014683550336800843, 0.0014683550336800843, 0.0014683550336800843, 0.0014683550336800843, 0.0014683550336800843, 0.0014683550336800843, 0.0014683550336800843, 0.0014683550336800843, 0.0014683550336800843, 0.0014683550336800843, 0.0014683550336800843, 0.0014683550336800843, 0.0014683550336800843, 0.0014683550336800843, 0.0014683550336800843, 0.0014683550336800843, 0.0014683550336800843, 0.0014683550336800843, 0.0014683550336800843, 0.0014683550336800843, 0.0014683550336800843, 0.0014683550336800843, 0.0014234012767427022, 0.0014234012767427022, 0.0014234012767427022, 0.0014234012767427022, 0.0014234012767427022, 0.0014234012767427022, 0.0014234012767427022, 0.0014234012767427022, 0.0014234012767427022, 0.0014234012767427022, 0.0014234012767427022, 0.0014234012767427022, 0.0014234012767427022, 0.0014234012767427022, 0.0014234012767427022, 0.0014234012767427022, 0.0014234012767427022, 0.0014234012767427022, 0.0014234012767427022, 0.0014234012767427022, 0.0014234012767427022, 0.0014234012767427022, 0.0014234012767427022, 0.0014234012767427022, 0.0014234012767427022, 0.0014234012767427022, 0.0014234012767427022, 0.0014234012767427022, 0.0014234012767427022, 0.0014234012767427022, 0.0014234012767427022, 0.0014234012767427022, 0.0014234012767427022, 0.0014234012767427022, 0.0014234012767427022, 0.0014234012767427022, 0.0014234012767427022, 0.0014234012767427022, 0.0014234012767427022, 0.0014234012767427022, 0.0014234012767427022, 0.0014234012767427022, 0.0014009114067044172, 0.0014009114067044172, 0.0014009114067044172, 0.0014009114067044172, 0.0014009114067044172, 0.0014009114067044172, 0.0014009114067044172, 0.0014009114067044172, 0.0014009114067044172, 0.0014009114067044172, 0.0014009114067044172, 0.0014009114067044172, 0.0014009114067044172, 0.0014009114067044172, 0.0014009114067044172, 0.0014009114067044172, 0.0014009114067044172, 0.0014009114067044172, 0.0014009114067044172, 0.0014009114067044172, 0.0014009114067044172, 0.0014009114067044172, 0.0014009114067044172, 0.0014009114067044172, 0.0014009114067044172, 0.0014009114067044172, 0.0014009114067044172, 0.0014009114067044172, 0.0014009114067044172, 0.0014009114067044172, 0.0014009114067044172, 0.0014009114067044172, 0.0014009114067044172, 0.0014009114067044172, 0.0014009114067044172, 0.0014009114067044172, 0.0014009114067044172, 0.0014009114067044172, 0.0014009114067044172, 0.0014009114067044172, 0.0014009114067044172, 0.0014009114067044172, 0.0013992247813679984, 0.0013992247813679984, 0.0013992247813679984, 0.0013992247813679984, 0.0013992247813679984, 0.0013992247813679984, 0.0013992247813679984, 0.0013992247813679984, 0.0013992247813679984, 0.0013992247813679984, 0.0013992247813679984, 0.0013992247813679984, 0.0013992247813679984, 0.0013992247813679984, 0.0013992247813679984, 0.0013992247813679984, 0.0013992247813679984, 0.0013992247813679984, 0.0013992247813679984, 0.0013992247813679984, 0.0013992247813679984, 0.0013992247813679984, 0.0013992247813679984, 0.0013992247813679984, 0.0013992247813679984, 0.0013992247813679984, 0.0013992247813679984, 0.0013992247813679984, 0.0013992247813679984, 0.0013992247813679984, 0.0013992247813679984, 0.0013992247813679984, 0.0013992247813679984, 0.0013992247813679984, 0.0013992247813679984, 0.0013992247813679984, 0.0013992247813679984, 0.0013992247813679984, 0.0013992247813679984, 0.0013992247813679984, 0.0013992247813679984, 0.0013992247813679984, 0.0013920722256419687, 0.0013920722256419687, 0.0013920722256419687, 0.0013920722256419687, 0.0013920722256419687, 0.0013920722256419687, 0.0013920722256419687, 0.0013920722256419687, 0.0013920722256419687, 0.0013920722256419687, 0.0013920722256419687, 0.0013920722256419687, 0.0013920722256419687, 0.0013920722256419687, 0.0013920722256419687, 0.0013920722256419687, 0.0013920722256419687, 0.0013920722256419687, 0.0013920722256419687, 0.0013920722256419687, 0.0013920722256419687, 0.0013920722256419687, 0.0013920722256419687, 0.0013920722256419687, 0.0013920722256419687, 0.0013920722256419687, 0.0013920722256419687, 0.0013920722256419687, 0.0013920722256419687, 0.0013920722256419687, 0.0013920722256419687, 0.0013920722256419687, 0.0013920722256419687, 0.0013920722256419687, 0.0013920722256419687, 0.0013920722256419687, 0.0013920722256419687, 0.0013920722256419687, 0.0013920722256419687, 0.0013920722256419687, 0.0013920722256419687, 0.0013920722256419687], \"Total\": [3434.0, 20010.0, 1055.0, 1054.0, 468.0, 579.0, 692.0, 412.0, 361.0, 351.0, 2200.0, 2032.0, 220.0, 1433.0, 1074.0, 1080.0, 136.0, 1184.0, 126.0, 805.0, 64.0, 105.0, 703.0, 692.0, 99.0, 1412.0, 617.0, 84.0, 78.0, 524.0, 20010.055377006396, 1074.859150207621, 1433.9089840139095, 2200.6604266265167, 805.1039223655819, 703.4552865462324, 692.1210105265383, 617.9073443688613, 495.0480097546957, 486.51434520003016, 476.9039117454695, 1080.8967755273356, 464.41537452870455, 443.83380795877736, 439.14559567561065, 430.62234243002433, 395.1389003223037, 378.2549582037499, 361.7735228813969, 360.7149768858741, 476.9443884293121, 476.9443884293121, 329.81324898844093, 327.112886955261, 322.91017172306067, 321.05197985070487, 319.739668188146, 311.5580517617996, 309.43741985777865, 293.14957651419746, 2032.1182196072702, 1184.6867301930165, 524.231163252183, 497.7367654300132, 420.20623295102024, 420.20623295102024, 398.25305234151074, 1412.6268021136204, 975.5537469016037, 509.7473856117692, 446.74736430021244, 3434.9924896040593, 1055.784502350243, 1054.30583609229, 692.7984864687014, 351.49885994257005, 220.3846873412246, 136.03506194000747, 126.88016389029634, 105.60973945951672, 99.85578689038157, 84.21350919823303, 78.76369431889476, 56.167377952457564, 49.36661036711876, 46.70754605889035, 36.825991822430154, 15.40762286341902, 15.284253121032998, 7.364564196311463, 3.967075037261418, 3.9492332185287484, 0.7352416371305303, 0.6328981552841627, 0.9365567470580967, 0.9365567470580967, 0.9365567470580967, 0.5615155660903288, 0.5615155660903288, 0.7131823189306591, 0.7131823189306591, 0.7342896198800254, 0.7342896198800254, 1.064594550282012, 1.059112403396168, 3.1505539767960884, 3.1505539767960884, 3.1505539767960884, 3.1505539767960884, 3.7482039942507206, 1.764392908166803, 446.74736430021244, 182.95814200144457, 57.199906751336854, 322.75828596718094, 509.7473856117692, 975.5537469016037, 1412.6268021136204, 106.08930615028628, 26.921355346233685, 192.65460500844492, 1184.6867301930165, 2032.1182196072702, 579.1037991994128, 412.38821003026953, 361.7381114150469, 64.71609460327689, 0.5212813959824413, 0.5212813959824413, 0.5212809616516283, 0.5212809616516283, 0.5212809616516283, 0.5212809616516283, 0.5212809616516283, 0.5212809616516283, 0.5212809616516283, 0.5212809616516283, 0.5212809616516283, 0.5212809616516283, 0.5212809616516283, 0.5212809616516283, 0.5212809616516283, 0.5212810201790385, 0.5212810201790385, 0.5212810201790385, 0.5212810201790385, 0.5212810201790385, 0.5212810787064488, 0.5212810787064488, 0.5212809247224489, 0.5212809247224489, 0.5212809247224489, 0.5212809247224489, 0.5212811003046797, 0.5212811003046797, 0.5212810417772693, 0.5212810417772693, 0.521285274446168, 0.521285274446168, 0.5214763428657713, 0.5214763428657713, 0.5214763428657713, 0.5212907585908134, 0.5212907585908134, 1.0285091832187403, 0.5217475561274475, 0.5217475561274475, 0.5212815871399472, 0.5212815871399472, 0.5212815871399472, 0.5213004443916666, 0.5213004443916666, 0.5718502532204102, 0.5718502532204102, 0.5718502532204102, 0.5718502532204102, 0.5718502532204102, 0.5718502532204102, 0.5718502532204102, 0.5718502532204102, 0.5718502532204102, 0.5718502532204102, 0.5718502532204102, 0.5718502532204102, 0.5718502532204102, 0.5718502532204102, 0.5718502532204102, 0.5718502532204102, 0.5285673222163598, 0.5213303460380028, 0.5213303460380028, 1.0482943507450055, 1.0482943507450055, 1.0482943507450055, 1.0482943507450055, 1.0482943507450055, 1.0482943507450055, 1.0482943507450055, 1.0482943507450055, 1.0482943507450055, 1.0482943507450055, 1.0482943507450055, 1.0482943507450055, 1.0482943507450055, 1.0482943507450055, 1.0482943507450055, 1.0482943507450055, 1.0482943507450055, 1.0482943507450055, 1.0482943507450055, 1.0427187181084563, 1.0427187181084563, 1.0427187181084563, 1.0427187181084563, 1.0427187181084563, 1.0427187181084563, 2.6099964800166755, 2.64138057377884, 62.581953573122334, 3.7482039942507206, 322.75828596718094, 446.74736430021244, 3.139096501711258, 3.139096501711258, 3.139096501711258, 3.139096501711258, 3.139041679832395, 3.139041679832395, 3.139041679832395, 3.139041679832395, 3.139041679832395, 3.139041679832395, 3.1389867521051578, 3.1389867521051578, 3.1389867521051578, 3.1389867521051578, 3.1389317965019528, 3.153150700357175, 3.153150700357175, 3.153150700357175, 3.1505539767960884, 5.319689457682276, 87.34676031322145, 28.661164975693737, 37.1675819840045, 468.0997019615537, 0.5212809247224489, 0.5212809247224489, 0.5212809247224489, 0.5212809247224489, 0.5212809247224489, 0.5212809247224489, 0.5212809247224489, 0.5212809247224489, 0.5212809247224489, 0.5212809247224489, 0.5212809247224489, 0.5212809247224489, 0.5212809247224489, 0.5212809247224489, 0.5212809247224489, 0.5212809247224489, 0.5212809247224489, 0.5212809247224489, 0.5212809247224489, 0.5212809247224489, 0.5212809247224489, 0.5212809247224489, 0.5212809247224489, 0.5212809247224489, 0.5212809247224489, 0.5212809247224489, 0.5212809247224489, 0.5212809247224489, 0.5212809247224489, 0.5212809799168119, 0.5212809799168119, 0.5212809799168119, 0.5212809799168119, 0.5212809799168119, 0.5212809799168119, 0.521281173121087, 0.521281173121087, 0.5212812256255416, 0.5212810015150428, 0.5212810015150428, 0.5212810015150428, 0.5212810015150428, 0.5212928790179505, 0.5212928790179505, 0.5212928790179505, 0.5212810075379983, 0.5212810075379983, 0.6557340892278615, 0.6557340892278615, 0.6557340892278615, 0.5225045134880343, 0.5225045134880343, 0.5215531189294685, 0.5215531189294685, 0.5212811152368158, 0.5212811368350466, 0.5212810324212664, 0.5212810324212664, 1.452827949531962, 1.0561053180415008, 1.0561053180415008, 1.0561002865136653, 1.0375886881960645, 1.0375886881960645, 1.0375886881960645, 1.0375886881960645, 1.0375886881960645, 1.0375886881960645, 1.0375886881960645, 1.0375886881960645, 1.0375886881960645, 1.0375886881960645, 1.0375886881960645, 1.0375886881960645, 1.0375886881960645, 1.0375886881960645, 1.0375886881960645, 1.0375886881960645, 1.0375886881960645, 1.0375886881960645, 1.0375886881960645, 1.0375886881960645, 1.0375886881960645, 1.0375886881960645, 1.0375886881960645, 1.0375886881960645, 1.0375886881960645, 2.6099964800166755, 1.1675336663022517, 1.0502156922818546, 54.910471354138245, 3.506865085041072, 0.5212809247224489, 0.5212809247224489, 0.5212809247224489, 0.5212809247224489, 0.5212809247224489, 0.5212809247224489, 0.5212809247224489, 0.5212809247224489, 0.5212809247224489, 0.5212809247224489, 0.5212809247224489, 0.5212809247224489, 0.5212809247224489, 0.5212809247224489, 0.5212809247224489, 0.5212809247224489, 0.5212809247224489, 0.5212809247224489, 0.5212809247224489, 0.5212809247224489, 0.5212809247224489, 0.5212809247224489, 0.5212809247224489, 0.5212809247224489, 0.5212809247224489, 0.5212809247224489, 0.5212809247224489, 0.5212809247224489, 0.5212809247224489, 0.8536571148523703, 0.8536571148523703, 0.8536571148523703, 0.8536571148523703, 0.6387051521041448, 0.6387051521041448, 0.6387051521041448, 0.6387045974951017, 0.6387045974951017, 0.5900313504462423, 0.5900313504462423, 0.5880055493399702, 0.5880055493399702, 0.5212879908911955, 0.6230979715313475, 0.6230979715313475, 0.6230979715313475, 0.6230979715313475, 0.5927531374290875, 0.5927531374290875, 0.5824779831194787, 0.5824779831194787, 0.5824779831194787, 0.5824779831194787, 0.521742399106775, 0.521742399106775, 0.521742399106775, 0.521742399106775, 0.522091184476468, 0.5212957708575513, 0.6747761381580878, 0.5721769995668663, 0.5721769995668663, 0.5721769995668663, 0.5721769995668663, 0.5721769995668663, 0.7620583082502825, 0.6625694320498865, 0.6640156038375787, 0.6753746911134487, 0.7347757721957991, 0.7347757721957991, 1.1549884890197841, 0.5212809247224489, 0.5212809247224489, 0.5212809247224489, 0.5212809247224489, 0.5212809247224489, 0.5212809247224489, 0.5212809247224489, 0.5212809247224489, 0.5212809247224489, 0.5212809247224489, 0.5212809247224489, 0.5212809247224489, 0.5212809247224489, 0.5212809247224489, 0.5212809247224489, 0.5212809247224489, 0.5212809247224489, 0.5212809247224489, 0.5212809247224489, 0.5212809247224489, 0.5212809247224489, 0.5212809247224489, 0.5212809247224489, 0.5212809247224489, 0.5212809247224489, 0.5212809247224489, 0.5212809247224489, 0.5212809247224489, 0.5212809247224489, 0.5212809247224489, 3434.9924896040593, 0.5212809679189107, 361.7381114150469, 412.38821003026953, 20010.055377006396, 64.71609460327689, 1054.30583609229, 1055.784502350243, 3.506865085041072, 468.0997019615537, 0.5368141529321351, 0.5212812580039045, 0.5212809247224489, 0.5212809247224489, 0.5212809247224489, 0.5212809247224489, 0.5212809247224489, 0.5212809247224489, 0.5212809247224489, 0.5212809247224489, 0.5212809247224489, 0.5212809247224489, 0.5212809247224489, 0.5212809247224489, 0.5212809247224489, 0.5212809247224489, 0.5212809247224489, 0.5212809247224489, 0.5212809247224489, 0.5212809247224489, 0.5212809247224489, 0.5212809247224489, 0.5212809247224489, 0.5212809247224489, 0.5212809247224489, 0.5212809247224489, 0.5212809247224489, 0.5212809247224489, 0.5212809247224489, 0.5212809247224489, 0.5212809247224489, 0.5212809247224489, 3434.9924896040593, 0.5212809679189107, 361.7381114150469, 412.38821003026953, 20010.055377006396, 64.71609460327689, 1054.30583609229, 1055.784502350243, 3.506865085041072, 468.0997019615537, 0.5368141529321351, 0.5212812580039045, 0.5212809247224489, 0.5212809247224489, 0.5212809247224489, 0.5212809247224489, 0.5212809247224489, 0.5212809247224489, 0.5212809247224489, 0.5212809247224489, 0.5212809247224489, 0.5212809247224489, 0.5212809247224489, 0.5212809247224489, 0.5212809247224489, 0.5212809247224489, 0.5212809247224489, 0.5212809247224489, 0.5212809247224489, 0.5212809247224489, 0.5212809247224489, 0.5212809247224489, 0.5212809247224489, 0.5212809247224489, 0.5212809247224489, 0.5212809247224489, 0.5212809247224489, 0.5212809247224489, 0.5212809247224489, 0.5212809247224489, 0.5212809247224489, 0.5212809247224489, 3434.9924896040593, 0.5212809679189107, 361.7381114150469, 412.38821003026953, 20010.055377006396, 64.71609460327689, 1054.30583609229, 1055.784502350243, 3.506865085041072, 468.0997019615537, 0.5368141529321351, 0.5212812580039045, 0.5212809247224489, 0.5212809247224489, 0.5212809247224489, 0.5212809247224489, 0.5212809247224489, 0.5212809247224489, 0.5212809247224489, 0.5212809247224489, 0.5212809247224489, 0.5212809247224489, 0.5212809247224489, 0.5212809247224489, 0.5212809247224489, 0.5212809247224489, 0.5212809247224489, 0.5212809247224489, 0.5212809247224489, 0.5212809247224489, 0.5212809247224489, 0.5212809247224489, 0.5212809247224489, 0.5212809247224489, 0.5212809247224489, 0.5212809247224489, 0.5212809247224489, 0.5212809247224489, 0.5212809247224489, 0.5212809247224489, 0.5212809247224489, 0.5212809247224489, 3434.9924896040593, 0.5212809679189107, 361.7381114150469, 412.38821003026953, 20010.055377006396, 64.71609460327689, 1054.30583609229, 1055.784502350243, 3.506865085041072, 468.0997019615537, 0.5368141529321351, 0.5212812580039045, 0.5212809247224489, 0.5212809247224489, 0.5212809247224489, 0.5212809247224489, 0.5212809247224489, 0.5212809247224489, 0.5212809247224489, 0.5212809247224489, 0.5212809247224489, 0.5212809247224489, 0.5212809247224489, 0.5212809247224489, 0.5212809247224489, 0.5212809247224489, 0.5212809247224489, 0.5212809247224489, 0.5212809247224489, 0.5212809247224489, 0.5212809247224489, 0.5212809247224489, 0.5212809247224489, 0.5212809247224489, 0.5212809247224489, 0.5212809247224489, 0.5212809247224489, 0.5212809247224489, 0.5212809247224489, 0.5212809247224489, 0.5212809247224489, 0.5212809247224489, 3434.9924896040593, 0.5212809679189107, 361.7381114150469, 412.38821003026953, 20010.055377006396, 64.71609460327689, 1054.30583609229, 1055.784502350243, 3.506865085041072, 468.0997019615537, 0.5368141529321351, 0.5212812580039045], \"Category\": [\"Default\", \"Default\", \"Default\", \"Default\", \"Default\", \"Default\", \"Default\", \"Default\", \"Default\", \"Default\", \"Default\", \"Default\", \"Default\", \"Default\", \"Default\", \"Default\", \"Default\", \"Default\", \"Default\", \"Default\", \"Default\", \"Default\", \"Default\", \"Default\", \"Default\", \"Default\", \"Default\", \"Default\", \"Default\", \"Default\", \"Topic1\", \"Topic1\", \"Topic1\", \"Topic1\", \"Topic1\", \"Topic1\", \"Topic1\", \"Topic1\", \"Topic1\", \"Topic1\", \"Topic1\", \"Topic1\", \"Topic1\", \"Topic1\", \"Topic1\", \"Topic1\", \"Topic1\", \"Topic1\", \"Topic1\", \"Topic1\", \"Topic1\", \"Topic1\", \"Topic1\", \"Topic1\", \"Topic1\", \"Topic1\", \"Topic1\", \"Topic1\", \"Topic1\", \"Topic1\", \"Topic1\", \"Topic1\", \"Topic1\", \"Topic1\", \"Topic1\", \"Topic1\", \"Topic1\", \"Topic1\", \"Topic1\", \"Topic1\", \"Topic1\", \"Topic2\", \"Topic2\", \"Topic2\", \"Topic2\", \"Topic2\", \"Topic2\", \"Topic2\", \"Topic2\", \"Topic2\", \"Topic2\", \"Topic2\", \"Topic2\", \"Topic2\", \"Topic2\", \"Topic2\", \"Topic2\", \"Topic2\", \"Topic2\", \"Topic2\", \"Topic2\", \"Topic2\", \"Topic2\", \"Topic2\", \"Topic2\", \"Topic2\", \"Topic2\", \"Topic2\", \"Topic2\", \"Topic2\", \"Topic2\", \"Topic2\", \"Topic2\", \"Topic2\", \"Topic2\", \"Topic2\", \"Topic2\", \"Topic2\", \"Topic2\", \"Topic2\", \"Topic2\", \"Topic2\", \"Topic2\", \"Topic2\", \"Topic2\", \"Topic2\", \"Topic2\", \"Topic2\", \"Topic2\", \"Topic2\", \"Topic2\", \"Topic2\", \"Topic2\", \"Topic3\", \"Topic3\", \"Topic3\", \"Topic3\", \"Topic3\", \"Topic3\", \"Topic3\", \"Topic3\", \"Topic3\", \"Topic3\", \"Topic3\", \"Topic3\", \"Topic3\", \"Topic3\", \"Topic3\", \"Topic3\", \"Topic3\", \"Topic3\", \"Topic3\", \"Topic3\", \"Topic3\", \"Topic3\", \"Topic3\", \"Topic3\", \"Topic3\", \"Topic3\", \"Topic3\", \"Topic3\", \"Topic3\", \"Topic3\", \"Topic3\", \"Topic3\", \"Topic3\", \"Topic3\", \"Topic3\", \"Topic3\", \"Topic3\", \"Topic3\", \"Topic3\", \"Topic3\", \"Topic3\", \"Topic3\", \"Topic3\", \"Topic3\", \"Topic3\", \"Topic3\", \"Topic3\", \"Topic3\", \"Topic3\", \"Topic3\", \"Topic3\", \"Topic3\", \"Topic3\", \"Topic3\", \"Topic3\", \"Topic3\", \"Topic3\", \"Topic3\", \"Topic3\", \"Topic3\", \"Topic3\", \"Topic3\", \"Topic3\", \"Topic3\", \"Topic3\", \"Topic3\", \"Topic3\", \"Topic3\", \"Topic3\", \"Topic3\", \"Topic3\", \"Topic3\", \"Topic3\", \"Topic3\", \"Topic3\", \"Topic3\", \"Topic3\", \"Topic3\", \"Topic3\", \"Topic3\", \"Topic3\", \"Topic3\", \"Topic3\", \"Topic3\", \"Topic3\", \"Topic3\", \"Topic3\", \"Topic3\", \"Topic3\", \"Topic3\", \"Topic3\", \"Topic3\", \"Topic3\", \"Topic3\", \"Topic3\", \"Topic3\", \"Topic3\", \"Topic3\", \"Topic3\", \"Topic3\", \"Topic3\", \"Topic3\", \"Topic3\", \"Topic3\", \"Topic3\", \"Topic3\", \"Topic3\", \"Topic3\", \"Topic3\", \"Topic3\", \"Topic3\", \"Topic3\", \"Topic3\", \"Topic3\", \"Topic3\", \"Topic3\", \"Topic3\", \"Topic3\", \"Topic3\", \"Topic3\", \"Topic3\", \"Topic3\", \"Topic4\", \"Topic4\", \"Topic4\", \"Topic4\", \"Topic4\", \"Topic4\", \"Topic4\", \"Topic4\", \"Topic4\", \"Topic4\", \"Topic4\", \"Topic4\", \"Topic4\", \"Topic4\", \"Topic4\", \"Topic4\", \"Topic4\", \"Topic4\", \"Topic4\", \"Topic4\", \"Topic4\", \"Topic4\", \"Topic4\", \"Topic4\", \"Topic4\", \"Topic4\", \"Topic4\", \"Topic4\", \"Topic4\", \"Topic4\", \"Topic4\", \"Topic4\", \"Topic4\", \"Topic4\", \"Topic4\", \"Topic4\", \"Topic4\", \"Topic4\", \"Topic4\", \"Topic4\", \"Topic4\", \"Topic4\", \"Topic4\", \"Topic4\", \"Topic4\", \"Topic4\", \"Topic4\", \"Topic4\", \"Topic4\", \"Topic4\", \"Topic4\", \"Topic4\", \"Topic4\", \"Topic4\", \"Topic4\", \"Topic4\", \"Topic4\", \"Topic4\", \"Topic4\", \"Topic4\", \"Topic4\", \"Topic4\", \"Topic4\", \"Topic4\", \"Topic4\", \"Topic4\", \"Topic4\", \"Topic4\", \"Topic4\", \"Topic4\", \"Topic4\", \"Topic4\", \"Topic4\", \"Topic4\", \"Topic4\", \"Topic4\", \"Topic4\", \"Topic4\", \"Topic4\", \"Topic4\", \"Topic4\", \"Topic4\", \"Topic4\", \"Topic4\", \"Topic4\", \"Topic4\", \"Topic4\", \"Topic4\", \"Topic4\", \"Topic4\", \"Topic4\", \"Topic4\", \"Topic5\", \"Topic5\", \"Topic5\", \"Topic5\", \"Topic5\", \"Topic5\", \"Topic5\", \"Topic5\", \"Topic5\", \"Topic5\", \"Topic5\", \"Topic5\", \"Topic5\", \"Topic5\", \"Topic5\", \"Topic5\", \"Topic5\", \"Topic5\", \"Topic5\", \"Topic5\", \"Topic5\", \"Topic5\", \"Topic5\", \"Topic5\", \"Topic5\", \"Topic5\", \"Topic5\", \"Topic5\", \"Topic5\", \"Topic5\", \"Topic5\", \"Topic5\", \"Topic5\", \"Topic5\", \"Topic5\", \"Topic5\", \"Topic5\", \"Topic5\", \"Topic5\", \"Topic5\", \"Topic5\", \"Topic5\", \"Topic5\", \"Topic5\", \"Topic5\", \"Topic5\", \"Topic5\", \"Topic5\", \"Topic5\", \"Topic5\", \"Topic5\", \"Topic5\", \"Topic5\", \"Topic5\", \"Topic5\", \"Topic5\", \"Topic5\", \"Topic5\", \"Topic5\", \"Topic5\", \"Topic5\", \"Topic5\", \"Topic5\", \"Topic5\", \"Topic5\", \"Topic5\", \"Topic5\", \"Topic5\", \"Topic5\", \"Topic5\", \"Topic5\", \"Topic5\", \"Topic5\", \"Topic6\", \"Topic6\", \"Topic6\", \"Topic6\", \"Topic6\", \"Topic6\", \"Topic6\", \"Topic6\", \"Topic6\", \"Topic6\", \"Topic6\", \"Topic6\", \"Topic6\", \"Topic6\", \"Topic6\", \"Topic6\", \"Topic6\", \"Topic6\", \"Topic6\", \"Topic6\", \"Topic6\", \"Topic6\", \"Topic6\", \"Topic6\", \"Topic6\", \"Topic6\", \"Topic6\", \"Topic6\", \"Topic6\", \"Topic6\", \"Topic6\", \"Topic6\", \"Topic6\", \"Topic6\", \"Topic6\", \"Topic6\", \"Topic6\", \"Topic6\", \"Topic6\", \"Topic6\", \"Topic6\", \"Topic6\", \"Topic7\", \"Topic7\", \"Topic7\", \"Topic7\", \"Topic7\", \"Topic7\", \"Topic7\", \"Topic7\", \"Topic7\", \"Topic7\", \"Topic7\", \"Topic7\", \"Topic7\", \"Topic7\", \"Topic7\", \"Topic7\", \"Topic7\", \"Topic7\", \"Topic7\", \"Topic7\", \"Topic7\", \"Topic7\", \"Topic7\", \"Topic7\", \"Topic7\", \"Topic7\", \"Topic7\", \"Topic7\", \"Topic7\", \"Topic7\", \"Topic7\", \"Topic7\", \"Topic7\", \"Topic7\", \"Topic7\", \"Topic7\", \"Topic7\", \"Topic7\", \"Topic7\", \"Topic7\", \"Topic7\", \"Topic7\", \"Topic8\", \"Topic8\", \"Topic8\", \"Topic8\", \"Topic8\", \"Topic8\", \"Topic8\", \"Topic8\", \"Topic8\", \"Topic8\", \"Topic8\", \"Topic8\", \"Topic8\", \"Topic8\", \"Topic8\", \"Topic8\", \"Topic8\", \"Topic8\", \"Topic8\", \"Topic8\", \"Topic8\", \"Topic8\", \"Topic8\", \"Topic8\", \"Topic8\", \"Topic8\", \"Topic8\", \"Topic8\", \"Topic8\", \"Topic8\", \"Topic8\", \"Topic8\", \"Topic8\", \"Topic8\", \"Topic8\", \"Topic8\", \"Topic8\", \"Topic8\", \"Topic8\", \"Topic8\", \"Topic8\", \"Topic8\", \"Topic9\", \"Topic9\", \"Topic9\", \"Topic9\", \"Topic9\", \"Topic9\", \"Topic9\", \"Topic9\", \"Topic9\", \"Topic9\", \"Topic9\", \"Topic9\", \"Topic9\", \"Topic9\", \"Topic9\", \"Topic9\", \"Topic9\", \"Topic9\", \"Topic9\", \"Topic9\", \"Topic9\", \"Topic9\", \"Topic9\", \"Topic9\", \"Topic9\", \"Topic9\", \"Topic9\", \"Topic9\", \"Topic9\", \"Topic9\", \"Topic9\", \"Topic9\", \"Topic9\", \"Topic9\", \"Topic9\", \"Topic9\", \"Topic9\", \"Topic9\", \"Topic9\", \"Topic9\", \"Topic9\", \"Topic9\", \"Topic10\", \"Topic10\", \"Topic10\", \"Topic10\", \"Topic10\", \"Topic10\", \"Topic10\", \"Topic10\", \"Topic10\", \"Topic10\", \"Topic10\", \"Topic10\", \"Topic10\", \"Topic10\", \"Topic10\", \"Topic10\", \"Topic10\", \"Topic10\", \"Topic10\", \"Topic10\", \"Topic10\", \"Topic10\", \"Topic10\", \"Topic10\", \"Topic10\", \"Topic10\", \"Topic10\", \"Topic10\", \"Topic10\", \"Topic10\", \"Topic10\", \"Topic10\", \"Topic10\", \"Topic10\", \"Topic10\", \"Topic10\", \"Topic10\", \"Topic10\", \"Topic10\", \"Topic10\", \"Topic10\", \"Topic10\"], \"logprob\": [30.0, 29.0, 28.0, 27.0, 26.0, 25.0, 24.0, 23.0, 22.0, 21.0, 20.0, 19.0, 18.0, 17.0, 16.0, 15.0, 14.0, 13.0, 12.0, 11.0, 10.0, 9.0, 8.0, 7.0, 6.0, 5.0, 4.0, 3.0, 2.0, 1.0, -1.5575, -4.4818, -4.1936, -3.7653, -4.7708, -4.9059, -4.9221, -5.0356, -5.2573, -5.2747, -5.2947, -4.4765, -5.3213, -5.3666, -5.3772, -5.3968, -5.4829, -5.5266, -5.5711, -5.5741, -5.2948, -5.2948, -5.6637, -5.6719, -5.6849, -5.6906, -5.6947, -5.7207, -5.7275, -5.7816, -3.8475, -4.3894, -5.2005, -5.2545, -5.4225, -5.4225, -5.4771, -4.2247, -4.5988, -5.2623, -5.4146, -1.785, -2.965, -2.9664, -3.3865, -4.0655, -4.533, -5.0166, -5.0865, -5.2706, -5.3268, -5.4979, -5.5651, -5.9052, -6.0352, -6.0911, -6.331, -7.2172, -7.2255, -7.9839, -8.6513, -8.6563, -11.561, -11.7198, -11.331, -11.331, -11.331, -11.8561, -11.8561, -11.6191, -11.6191, -11.6042, -11.6042, -11.2718, -11.2813, -10.333, -10.333, -10.333, -10.333, -10.2775, -10.8798, -6.7611, -7.4466, -8.3365, -7.2107, -7.0777, -6.9603, -6.7958, -8.3208, -9.1289, -8.1475, -8.152, -8.1885, -2.4375, -2.7774, -2.9086, -4.6354, -11.6662, -11.6662, -11.6662, -11.6662, -11.6662, -11.6662, -11.6662, -11.6662, -11.6662, -11.6662, -11.6662, -11.6662, -11.6662, -11.6662, -11.6662, -11.6662, -11.6662, -11.6662, -11.6662, -11.6662, -11.6662, -11.6662, -11.6662, -11.6662, -11.6662, -11.6662, -11.6662, -11.6662, -11.6662, -11.6662, -11.6662, -11.6662, -11.6659, -11.6659, -11.6659, -11.6662, -11.6662, -11.066, -11.6655, -11.6655, -11.6662, -11.6662, -11.6662, -11.6662, -11.6662, -11.586, -11.586, -11.586, -11.586, -11.586, -11.586, -11.586, -11.586, -11.586, -11.586, -11.586, -11.586, -11.586, -11.586, -11.586, -11.586, -11.6547, -11.6662, -11.6662, -11.1697, -11.1697, -11.1697, -11.1697, -11.1697, -11.1697, -11.1697, -11.1697, -11.1697, -11.1697, -11.1697, -11.1697, -11.1697, -11.1697, -11.1697, -11.1697, -11.1697, -11.1697, -11.1697, -11.1758, -11.1758, -11.1758, -11.1758, -11.1758, -11.1758, -10.7574, -10.9704, -10.3162, -10.9793, -10.4929, -10.5607, -11.0603, -11.0603, -11.0603, -11.0603, -11.0606, -11.0606, -11.0606, -11.0606, -11.0606, -11.0606, -11.0608, -11.0608, -11.0608, -11.0608, -11.0611, -11.0837, -11.0837, -11.0837, -11.0838, -11.0507, -10.9284, -11.0049, -11.0504, -1.8445, -11.5905, -11.5905, -11.5905, -11.5905, -11.5905, -11.5905, -11.5905, -11.5905, -11.5905, -11.5905, -11.5905, -11.5905, -11.5905, -11.5905, -11.5905, -11.5905, -11.5905, -11.5905, -11.5905, -11.5905, -11.5905, -11.5905, -11.5905, -11.5905, -11.5905, -11.5905, -11.5905, -11.5905, -11.5905, -11.5905, -11.5905, -11.5905, -11.5905, -11.5905, -11.5905, -11.5905, -11.5905, -11.5905, -11.5905, -11.5905, -11.5905, -11.5905, -11.5905, -11.5905, -11.5905, -11.5905, -11.5905, -11.4524, -11.4524, -11.4524, -11.5891, -11.5891, -11.5902, -11.5902, -11.5905, -11.5905, -11.5905, -11.5905, -11.1683, -11.3096, -11.3096, -11.3099, -11.319, -11.319, -11.319, -11.319, -11.319, -11.319, -11.319, -11.319, -11.319, -11.319, -11.319, -11.319, -11.319, -11.319, -11.319, -11.319, -11.319, -11.319, -11.319, -11.319, -11.319, -11.319, -11.319, -11.319, -11.319, -11.0736, -11.3086, -11.3188, -11.3038, -4.9447, -11.4229, -11.4229, -11.4229, -11.4229, -11.4229, -11.4229, -11.4229, -11.4229, -11.4229, -11.4229, -11.4229, -11.4229, -11.4229, -11.4229, -11.4229, -11.4229, -11.4229, -11.4229, -11.4229, -11.4229, -11.4229, -11.4229, -11.4229, -11.4229, -11.4229, -11.4229, -11.4229, -11.4229, -11.4229, -11.2985, -11.2985, -11.2985, -11.2985, -11.3741, -11.3741, -11.3741, -11.3742, -11.3742, -11.3934, -11.3934, -11.3945, -11.3945, -11.4229, -11.3822, -11.3822, -11.3822, -11.3822, -11.394, -11.394, -11.3983, -11.3983, -11.3983, -11.3983, -11.4227, -11.4227, -11.4227, -11.4227, -11.4225, -11.4229, -11.3663, -11.4028, -11.4028, -11.4028, -11.4028, -11.4028, -11.3741, -11.3934, -11.3934, -11.3934, -11.3934, -11.3934, -11.3961, -11.4157, -11.4157, -11.4157, -11.4157, -11.4157, -11.4157, -11.4157, -11.4157, -11.4157, -11.4157, -11.4157, -11.4157, -11.4157, -11.4157, -11.4157, -11.4157, -11.4157, -11.4157, -11.4157, -11.4157, -11.4157, -11.4157, -11.4157, -11.4157, -11.4157, -11.4157, -11.4157, -11.4157, -11.4157, -11.4157, -11.4157, -11.4157, -11.4157, -11.4157, -11.4157, -11.4157, -11.4157, -11.4157, -11.4157, -11.4157, -11.4157, -11.4157, -11.4157, -11.4157, -11.4157, -11.4157, -11.4157, -11.4157, -11.4157, -11.4157, -11.4157, -11.4157, -11.4157, -11.4157, -11.4157, -11.4157, -11.4157, -11.4157, -11.4157, -11.4157, -11.4157, -11.4157, -11.4157, -11.4157, -11.4157, -11.4157, -11.4157, -11.4157, -11.4157, -11.4157, -11.4157, -11.4157, -11.4157, -11.4157, -11.4157, -11.4157, -11.4157, -11.4157, -11.4157, -11.4157, -11.4157, -11.4157, -11.4157, -11.4157, -11.4157, -11.4157, -11.4157, -11.4157, -11.4157, -11.4157, -11.4157, -11.4157, -11.4157, -11.4157, -11.4157, -11.4157, -11.4157, -11.4157, -11.4157, -11.4157, -11.4157, -11.4157, -11.4157, -11.4157, -11.4157, -11.4157, -11.4157, -11.4157, -11.4157, -11.4157, -11.4157, -11.4157, -11.4157, -11.4157, -11.4157, -11.4157, -11.4157, -11.4157, -11.4157, -11.4157, -11.4157, -11.4157, -11.4157, -11.4157, -11.4157, -11.4157, -11.4157, -11.4157, -11.4157, -11.4157, -11.4157, -11.4157, -11.4157, -11.4157, -11.4157, -11.4157, -11.4157, -11.4157, -11.4157, -11.4157, -11.4157, -11.4157, -11.4157, -11.4157, -11.4157, -11.4157, -11.4157, -11.4157, -11.4157, -11.4157, -11.4157, -11.4157, -11.4157, -11.4157, -11.4157, -11.4157, -11.4157, -11.4157, -11.4157, -11.4157, -11.4157, -11.4157, -11.4157, -11.4157, -11.4157, -11.4157, -11.4157, -11.4157, -11.4157, -11.4157, -11.4157, -11.4157, -11.4157, -11.4157, -11.4157, -11.4157, -11.4157, -11.4157, -11.4157, -11.4157, -11.4157, -11.4157, -11.4157, -11.4157, -11.4157, -11.4157, -11.4157, -11.4157, -11.4157, -11.4157, -11.4157, -11.4157, -11.4157, -11.4157, -11.4157, -11.4157, -11.4157, -11.4157, -11.4157, -11.4157, -11.4157, -11.4157, -11.4157, -11.4157, -11.4157, -11.4157, -11.4157, -11.4157, -11.4157, -11.4157], \"loglift\": [30.0, 29.0, 28.0, 27.0, 26.0, 25.0, 24.0, 23.0, 22.0, 21.0, 20.0, 19.0, 18.0, 17.0, 16.0, 15.0, 14.0, 13.0, 12.0, 11.0, 10.0, 9.0, 8.0, 7.0, 6.0, 5.0, 4.0, 3.0, 2.0, 1.0, 0.2833, 0.2831, 0.2831, 0.283, 0.283, 0.283, 0.283, 0.2829, 0.2828, 0.2828, 0.2828, 0.2828, 0.2828, 0.2828, 0.2828, 0.2828, 0.2827, 0.2827, 0.2827, 0.2827, 0.2826, 0.2826, 0.2826, 0.2826, 0.2826, 0.2826, 0.2826, 0.2826, 0.2826, 0.2825, 0.2805, 0.2782, 0.2824, 0.2802, 0.2816, 0.2816, 0.2807, 0.2669, 0.2631, 0.2486, 0.2283, 1.8181, 1.8178, 1.8178, 1.8176, 1.8171, 1.8164, 1.8153, 1.8151, 1.8145, 1.8143, 1.8136, 1.8133, 1.8113, 1.8103, 1.8099, 1.8076, 1.7927, 1.7925, 1.7642, 1.7156, 1.715, 0.4914, 0.4825, 0.4794, 0.4794, 0.4794, 0.4659, 0.4659, 0.4638, 0.4638, 0.4495, 0.4495, 0.4104, 0.4061, 0.2643, 0.2643, 0.2643, 0.2643, 0.1461, 0.2972, -1.1182, -0.911, -0.6382, -1.2428, -1.5668, -2.0985, -2.3042, -1.2402, -0.6769, -1.6636, -3.4844, -4.0605, 2.9458, 2.9455, 2.9454, 2.9394, 0.7301, 0.7301, 0.7301, 0.7301, 0.7301, 0.7301, 0.7301, 0.7301, 0.7301, 0.7301, 0.7301, 0.7301, 0.7301, 0.7301, 0.7301, 0.7301, 0.7301, 0.7301, 0.7301, 0.7301, 0.7301, 0.7301, 0.7301, 0.7301, 0.7301, 0.7301, 0.7301, 0.7301, 0.7301, 0.7301, 0.7301, 0.7301, 0.73, 0.73, 0.73, 0.7301, 0.7301, 0.6508, 0.73, 0.73, 0.7301, 0.7301, 0.7301, 0.73, 0.73, 0.7177, 0.7177, 0.7177, 0.7177, 0.7177, 0.7177, 0.7177, 0.7177, 0.7177, 0.7177, 0.7177, 0.7177, 0.7177, 0.7177, 0.7177, 0.7177, 0.7277, 0.73, 0.73, 0.528, 0.528, 0.528, 0.528, 0.528, 0.528, 0.528, 0.528, 0.528, 0.528, 0.528, 0.528, 0.528, 0.528, 0.528, 0.528, 0.528, 0.528, 0.528, 0.5272, 0.5272, 0.5272, 0.5272, 0.5272, 0.5272, 0.0281, -0.1968, -2.7079, -0.5557, -4.525, -4.9178, -0.4594, -0.4594, -0.4594, -0.4594, -0.4596, -0.4596, -0.4596, -0.4596, -0.4596, -0.4596, -0.4599, -0.4599, -0.4599, -0.4599, -0.4601, -0.4872, -0.4872, -0.4872, -0.4865, -0.9772, -3.6535, -2.6157, -2.921, 3.7517, 0.8058, 0.8058, 0.8058, 0.8058, 0.8058, 0.8058, 0.8058, 0.8058, 0.8058, 0.8058, 0.8058, 0.8058, 0.8058, 0.8058, 0.8058, 0.8058, 0.8058, 0.8058, 0.8058, 0.8058, 0.8058, 0.8058, 0.8058, 0.8058, 0.8058, 0.8058, 0.8058, 0.8058, 0.8058, 0.8058, 0.8058, 0.8058, 0.8058, 0.8058, 0.8058, 0.8058, 0.8058, 0.8058, 0.8058, 0.8058, 0.8058, 0.8058, 0.8058, 0.8058, 0.8058, 0.8058, 0.8058, 0.7144, 0.7144, 0.7144, 0.8048, 0.8048, 0.8056, 0.8056, 0.8058, 0.8058, 0.8058, 0.8058, 0.2031, 0.3806, 0.3806, 0.3803, 0.389, 0.389, 0.389, 0.389, 0.389, 0.389, 0.389, 0.389, 0.389, 0.389, 0.389, 0.389, 0.389, 0.389, 0.389, 0.389, 0.389, 0.389, 0.389, 0.389, 0.389, 0.389, 0.389, 0.389, 0.389, -0.2881, 0.2813, 0.377, -3.5646, 5.5455, 0.9734, 0.9734, 0.9734, 0.9734, 0.9734, 0.9734, 0.9734, 0.9734, 0.9734, 0.9734, 0.9734, 0.9734, 0.9734, 0.9734, 0.9734, 0.9734, 0.9734, 0.9734, 0.9734, 0.9734, 0.9734, 0.9734, 0.9734, 0.9734, 0.9734, 0.9734, 0.9734, 0.9734, 0.9734, 0.6045, 0.6045, 0.6045, 0.6045, 0.819, 0.819, 0.819, 0.819, 0.819, 0.879, 0.879, 0.8814, 0.8814, 0.9734, 0.8357, 0.8357, 0.8357, 0.8357, 0.8738, 0.8738, 0.887, 0.887, 0.887, 0.887, 0.9728, 0.9728, 0.9728, 0.9728, 0.9722, 0.9734, 0.7719, 0.9003, 0.9003, 0.9003, 0.9003, 0.9003, 0.6425, 0.7631, 0.7609, 0.7439, 0.6596, 0.6596, 0.2046, 0.9806, 0.9806, 0.9806, 0.9806, 0.9806, 0.9806, 0.9806, 0.9806, 0.9806, 0.9806, 0.9806, 0.9806, 0.9806, 0.9806, 0.9806, 0.9806, 0.9806, 0.9806, 0.9806, 0.9806, 0.9806, 0.9806, 0.9806, 0.9806, 0.9806, 0.9806, 0.9806, 0.9806, 0.9806, 0.9806, -7.8126, 0.9806, -5.5618, -5.6928, -9.5749, -3.8409, -6.6315, -6.6329, -0.9256, -5.8195, 0.9512, 0.9806, 0.9806, 0.9806, 0.9806, 0.9806, 0.9806, 0.9806, 0.9806, 0.9806, 0.9806, 0.9806, 0.9806, 0.9806, 0.9806, 0.9806, 0.9806, 0.9806, 0.9806, 0.9806, 0.9806, 0.9806, 0.9806, 0.9806, 0.9806, 0.9806, 0.9806, 0.9806, 0.9806, 0.9806, 0.9806, 0.9806, -7.8126, 0.9806, -5.5618, -5.6928, -9.5749, -3.8409, -6.6315, -6.6329, -0.9256, -5.8195, 0.9512, 0.9806, 0.9806, 0.9806, 0.9806, 0.9806, 0.9806, 0.9806, 0.9806, 0.9806, 0.9806, 0.9806, 0.9806, 0.9806, 0.9806, 0.9806, 0.9806, 0.9806, 0.9806, 0.9806, 0.9806, 0.9806, 0.9806, 0.9806, 0.9806, 0.9806, 0.9806, 0.9806, 0.9806, 0.9806, 0.9806, 0.9806, -7.8126, 0.9806, -5.5618, -5.6928, -9.5749, -3.8409, -6.6315, -6.6329, -0.9256, -5.8195, 0.9512, 0.9806, 0.9806, 0.9806, 0.9806, 0.9806, 0.9806, 0.9806, 0.9806, 0.9806, 0.9806, 0.9806, 0.9806, 0.9806, 0.9806, 0.9806, 0.9806, 0.9806, 0.9806, 0.9806, 0.9806, 0.9806, 0.9806, 0.9806, 0.9806, 0.9806, 0.9806, 0.9806, 0.9806, 0.9806, 0.9806, 0.9806, -7.8126, 0.9806, -5.5618, -5.6928, -9.5749, -3.8409, -6.6315, -6.6329, -0.9256, -5.8195, 0.9512, 0.9806, 0.9806, 0.9806, 0.9806, 0.9806, 0.9806, 0.9806, 0.9806, 0.9806, 0.9806, 0.9806, 0.9806, 0.9806, 0.9806, 0.9806, 0.9806, 0.9806, 0.9806, 0.9806, 0.9806, 0.9806, 0.9806, 0.9806, 0.9806, 0.9806, 0.9806, 0.9806, 0.9806, 0.9806, 0.9806, 0.9806, -7.8126, 0.9806, -5.5618, -5.6928, -9.5749, -3.8409, -6.6315, -6.6329, -0.9256, -5.8195, 0.9512, 0.9806]}, \"token.table\": {\"Topic\": [1, 1, 2, 1, 1, 2, 1, 1, 1, 1, 1, 1, 2, 2, 1, 1, 1, 2, 2, 1, 1, 1, 1, 1, 1, 1, 1, 2, 5, 1, 1, 1, 2, 1, 1, 2, 1, 1, 1, 1, 1, 1, 2, 2, 1, 1, 2, 1, 2, 2, 1, 2, 1, 2, 1, 2, 1, 1, 1, 1, 1, 1, 3, 3, 2, 1, 2, 1, 2, 1, 1, 2, 1, 4, 2, 1, 2, 1, 2, 1, 2, 3, 1, 1, 1, 2, 1, 1, 1, 1, 2, 1, 1, 2, 1, 1, 2, 1, 1, 2, 1, 1, 1, 2, 1, 2, 1, 1, 1, 1, 1, 1, 1, 1, 1, 1, 2, 1, 1, 1, 1, 2, 1, 1, 1, 1, 2, 1, 1, 1, 1, 1, 2, 1, 2, 1, 2, 1, 2, 1, 2, 1, 1, 2, 1, 2, 1, 1, 1, 2, 1, 1, 1, 1, 1, 2, 1, 1, 1, 2, 1, 2, 1, 1, 2, 2, 1, 1, 2, 1, 1, 1, 1, 1, 1, 2, 1, 2, 1, 1, 1, 1, 1, 2, 1, 2, 1, 2, 2, 2, 2, 2, 1, 2, 1, 1, 2, 1, 2, 1, 1, 1, 2, 1, 1, 2, 1, 3, 1, 2, 1, 1, 2, 1, 2, 1, 1, 1, 2], \"Freq\": [1.0002781834850851, 0.9968536277772551, 0.002510966316819282, 0.8565063508336722, 1.1714305223976702, 0.9974646680768232, 0.9441868462623824, 0.963773035863165, 0.963773035863165, 0.9539305437345117, 1.0001310402319705, 0.9747218889344204, 0.015979047359580664, 1.0000021864373687, 0.9590314076398762, 0.9539305437345117, 0.637148276799417, 0.3185741383997085, 0.9848515685667096, 0.9722810610892941, 0.963773035863165, 0.9539305437345117, 1.0003744465568924, 0.963773035863165, 0.963773035863165, 0.9539305437345117, 0.6371594318260797, 0.31857971591303985, 0.8554649030545367, 1.0677409597882783, 1.1714305223976702, 0.9834189849097038, 0.018211462683513032, 0.9539305437345117, 0.6371371278213762, 0.3185685639106881, 0.9590314076398762, 0.9991055969472886, 0.9521853533032357, 0.963773035863165, 0.9993259620311109, 0.6371371278213762, 0.3185685639106881, 0.9925737180577635, 0.9393247407993016, 0.6348089938245945, 0.3174044969122973, 0.6348089938245945, 0.3174044969122973, 1.0082995563303767, 0.9685860117425185, 0.026905166992847736, 0.963773035863165, 0.9504975193923825, 0.6342862076885347, 0.31714310384426736, 0.963773035863165, 0.963773035863165, 0.9998251598713263, 0.963773035863165, 0.9996548990890829, 0.9590314076398762, 0.9979595420229305, 0.9990586296581053, 0.9997099171020207, 0.6342862076885347, 0.31714310384426736, 0.9799562587261776, 0.01947611811275876, 0.963773035863165, 1.0008141992932225, 0.9930630300016214, 1.000116599695975, 0.9997870069962961, 0.9903039804633496, 0.963773035863165, 0.9775704120499191, 0.9971294263234767, 0.0023797838337075816, 0.6342862076885347, 0.31714310384426736, 0.9998207589044377, 0.963773035863165, 0.963773035863165, 1.1714305223976702, 0.9814022236623502, 0.9982088353722719, 0.9996484772261339, 1.0005662325941478, 0.952028094678301, 0.04713010369694559, 0.9539305437345117, 0.9991703411947934, 0.9985807636967825, 0.9590314076398762, 0.9845814508930608, 0.011448621522012335, 0.963773035863165, 0.6371260007169939, 0.31856300035849694, 0.9590314076398762, 0.9590314076398762, 0.6371371278213762, 0.3185685639106881, 0.6348089938245945, 0.3174044969122973, 0.9539305437345117, 0.963773035863165, 0.963773035863165, 0.8658094946458559, 0.963773035863165, 0.9539305437345117, 0.9468752622649931, 1.000201483469026, 0.963773035863165, 0.9965106748172144, 0.002009094102454061, 1.000116599695975, 0.9985547836962838, 0.9539305437345117, 0.9539305437345117, 0.9997422580656233, 0.9994897604288703, 0.9539305437345117, 0.963773035863165, 0.6371371278213762, 0.3185685639106881, 0.963773035863165, 0.9539305437345117, 0.9539305437345117, 0.7571797944810121, 0.6371371278213762, 0.3185685639106881, 0.9706490015735827, 0.031143818232307465, 0.9951998025738923, 0.005064630038543981, 0.9651839595205186, 0.03334985225985532, 0.8003833314839927, 0.26679444382799755, 0.963773035863165, 0.983982462969154, 0.01628172420740327, 0.6371260007169939, 0.31856300035849694, 0.963773035863165, 0.9999030200026063, 0.963773035863165, 0.99422648457768, 0.963773035863165, 0.9998380952183225, 0.9998709205573406, 0.9989427954075667, 0.6371260007169939, 0.31856300035849694, 0.9980178896589029, 1.1714305223976702, 0.9769316782393723, 0.03489041707997758, 0.6348089938245945, 0.3174044969122973, 0.9539305437345117, 0.9971294263234767, 0.0023797838337075816, 0.9914297717034565, 1.0001499506875635, 1.000626019054129, 1.0128548451464117, 0.9999972325410723, 0.9468797734172952, 0.9985864028404202, 0.9539305437345117, 0.7662845583558878, 0.9996998961682021, 0.00045440904371281914, 0.9511762001091327, 0.046474407171456, 0.9996684569376435, 0.9993527853796256, 0.688312749160805, 0.5667671839822774, 0.9090923911127649, 0.08741272991468893, 0.9399044887440552, 0.18798089774881102, 0.9286308092024614, 0.07429046473619692, 0.9992569484127711, 0.9988474477293225, 0.9970200148456415, 0.9735440783414551, 0.637148276799417, 0.3185741383997085, 0.9468752622649931, 0.637148276799417, 0.3185741383997085, 0.9539305437345117, 0.9982544733671582, 0.9539305437345117, 0.9539305437345117, 0.6371371278213762, 0.3185685639106881, 1.0677409597882783, 0.6371260007169939, 0.31856300035849694, 1.0677409597882783, 0.9889348297719958, 0.9346400118047211, 0.06558877275822604, 0.99955904328398, 0.9468438625543758, 0.053721637591737634, 0.9969892403167112, 0.002952584127295295, 1.0000634740329444, 0.9539305437345117, 0.637148276799417, 0.3185741383997085], \"Term\": [\"app\", \"\\u4e00\\u76f4\\u5230\", \"\\u4e00\\u76f4\\u5230\", \"\\u4e09\\u8b80\", \"\\u4e0b\\u8f09\\u7684\\u4eba\\u6b21\\u4e5f\\u8b8a\\u591a\", \"\\u4e0d\\u5c0d\", \"\\u4e0d\\u662f\\u66ab\\u4ee3\\u4eba\", \"\\u4e0d\\u6703\\u653e\\u4eba\", \"\\u4e0d\\u80fd\\u67e5\\u6263\", \"\\u4e26\\u901a\\u904e\\u4e00\\u8b80\", \"\\u4e3b\\u59d4\", \"\\u4e3b\\u59d4\\u8f9b\\u82e6\\u4e86\", \"\\u4e3b\\u59d4\\u8f9b\\u82e6\\u4e86\", \"\\u4e3b\\u5e2d\", \"\\u4e5f\\u4e0d\\u5fc5\\u554a\", \"\\u4e5f\\u53ef\\u4ee5\\u8aaa\\u662f\\u7387\\u5148\\u63d0\\u51fa\\u4fee\\u6cd5\\u7684\\u4eba\", \"\\u4e5f\\u5c31\\u662f\\u6211\\u5011\\u6240\\u5283\\u7684\\u7981\\u6b62\\u6d77\\u57df\\u53ca\\u9650\", \"\\u4e5f\\u5c31\\u662f\\u6211\\u5011\\u6240\\u5283\\u7684\\u7981\\u6b62\\u6d77\\u57df\\u53ca\\u9650\", \"\\u4e8b\\u5be6\\u4e0a\", \"\\u4eca\\u5929\\u4f60\\u8981\\u548c\\u5510\\u9cf3\\u653f\\u59d4\\u76f4\\u64ad\", \"\\u4eca\\u5929\\u5982\\u679c\\u80fd\\u5920\\u51fa\\u59d4\\u54e1\\u6703\", \"\\u4eca\\u5929\\u5be9\\u9019\\u500b\\u6cd5\\u6848\", \"\\u4eca\\u5e74\", \"\\u4eca\\u5e74\\u7c21\\u76f4\\u662f\\u66b4\\u589e\", \"\\u4ed6\\u5011\\u5c31\\u597d\\u5e7e\\u500b\\u6708\", \"\\u4ed6\\u7684\\u7248\\u672c\\u662f\\u5728\", \"\\u4ee5\\u4e0b\\u4e4b\\u7f70\\u91d1\", \"\\u4ee5\\u4e0b\\u4e4b\\u7f70\\u91d1\", \"\\u4f46\\u662f\", \"\\u4f46\\u662f\\u539f\", \"\\u4f46\\u662f\\u6700\\u8fd1\\u5b83\\u6bd4\\u8f03\\u88ab\\u91cd\\u8996\", \"\\u4f46\\u672c\\u5e2d\\u5e0c\\u671b\\u4f60\\u5011\\u80fd\\u5920\\u7cbe\\u76ca\\u6c42\\u7cbe\", \"\\u4f46\\u672c\\u5e2d\\u5e0c\\u671b\\u4f60\\u5011\\u80fd\\u5920\\u7cbe\\u76ca\\u6c42\\u7cbe\", \"\\u4f46\\u672c\\u5e2d\\u5f9e\", \"\\u4f5c\\u70ba\\u904f\\u6b62\\u4e2d\\u570b\\u9055\\u6cd5\\u76dc\\u63a1\\u7802\\u77f3\\u7684\\u60e1\\u884c\", \"\\u4f5c\\u70ba\\u904f\\u6b62\\u4e2d\\u570b\\u9055\\u6cd5\\u76dc\\u63a1\\u7802\\u77f3\\u7684\\u60e1\\u884c\", \"\\u4f60\\u524d\\u9762\\u6709\\u8aaa\\u662f\\u6eff\\u4e82\\u7684\", \"\\u4f60\\u770b\\u770b\", \"\\u4f60\\u770b\\u770b\\u9019\\u500b\\u6578\\u5b57\", \"\\u4f9d\\u73fe\\u884c\\u6cd5\", \"\\u500b\\u6708\", \"\\u5169\\u500b\\u6cd5\\u96d9\\u96d9\\u4fee\\u6cd5\", \"\\u5169\\u500b\\u6cd5\\u96d9\\u96d9\\u4fee\\u6cd5\", \"\\u5176\\u5be6\", \"\\u5176\\u5be6\\u9019\\u4ef6\\u4e8b\\u60c5\\u4e0d\\u662f\\u53ea\\u6709\\u5728\\u5947\\u7f8e\\u90e8\\u843d\", \"\\u518d\\u4e5f\\u4e0d\\u6703\\u59d1\\u606f\", \"\\u518d\\u4e5f\\u4e0d\\u6703\\u59d1\\u606f\", \"\\u518d\\u4e5f\\u4e0d\\u6703\\u5fcd\\u8010\", \"\\u518d\\u4e5f\\u4e0d\\u6703\\u5fcd\\u8010\", \"\\u518d\\u8005\", \"\\u5230\\u4eca\\u5e74\", \"\\u5230\\u4eca\\u5e74\", \"\\u5230\\u4eca\\u5e74\\u662f\", \"\\u5230\\u76ee\\u524d\\u70ba\\u6b62\", \"\\u5236\\u6d77\\u57df\\u9055\\u6cd5\\u62bd\\u7802\\u8005\", \"\\u5236\\u6d77\\u57df\\u9055\\u6cd5\\u62bd\\u7802\\u8005\", \"\\u53bb\\u5e74\\u4e2d\\u570b\\u8d8a\\u754c\\u62bd\\u7802\", \"\\u53c8\\u5360\\u8239\\u5e2d\", \"\\u53e6\\u5916\", \"\\u53ea\\u8981\\u6211\\u5011\\u9019\\u908a\\u6293\\u4e00\\u8258\", \"\\u53ef\\u662f\", \"\\u53ef\\u662f\\u5728\\u9078\\u7f77\\u6cd5\\u7684\\u9ad4\\u7cfb\\u9078\\u653f\", \"\\u5404\\u4f4d\\u5217\\u5e2d\\u5b98\\u54e1\", \"\\u5404\\u4f4d\\u540c\\u4ec1\", \"\\u5404\\u4f4d\\u59d4\\u54e1\", \"\\u540c\\u6642\\u5f97\\u4f75\\u79d1\\u4e00\\u5104\\u5143\", \"\\u540c\\u6642\\u5f97\\u4f75\\u79d1\\u4e00\\u5104\\u5143\", \"\\u5433\\u7f72\\u9577\\u6b23\\u4fee\", \"\\u5433\\u7f72\\u9577\\u6b23\\u4fee\", \"\\u56e0\\u70ba\\u62cd\\u8ce3\\u4e0d\\u597d\\u8ce3\", \"\\u57fa\\u672c\\u4e0a\", \"\\u5831\\u544a\\u59d4\\u54e1\", \"\\u5937\\u5c07\", \"\\u597d\\u4e0d\\u597d\", \"\\u597d\\u7684\", \"\\u5982\\u679c\\u518d\\u52a0\\u4e0a\\u9055\\u6cd5\\u6355\\u9b5a\\u7684\\u9a45\\u96e2\", \"\\u59d4\\u54e1\", \"\\u59d4\\u54e1\\u6703\\u7d00\\u9304\", \"\\u59d4\\u54e1\\u6703\\u7d00\\u9304\", \"\\u5c07\\u5f15\\u5165\\u5211\\u8cac\", \"\\u5c07\\u5f15\\u5165\\u5211\\u8cac\", \"\\u5c0d\\u4e0d\\u5c0d\", \"\\u5c0d\\u6d77\\u5de1\\u6a5f\\u95dc\\u800c\\u8a00\\u662f\\u6c89\\u91cd\\u7684\\u8ca0\\u64d4\", \"\\u5c24\\u5176\\u662f\\u6f8e\\u6e56\\u6d77\\u57df\\u90e8\\u5206\\u7684\\u62cd\\u8ce3\", \"\\u5c31\\u5efa\\u7f6e\\u7684\\u7cfb\\u7d71\", \"\\u5e74\\u4e86\", \"\\u5e74\\u5230\", \"\\u5e74\\u7684\", \"\\u5e74\\u7684\\u6642\\u5019\", \"\\u5f35\\u53f8\\u9577\\u742c\\u5b9c\", \"\\u5f35\\u53f8\\u9577\\u742c\\u5b9c\", \"\\u5f88\\u591a\\u59d4\\u54e1\\u90fd\\u975e\\u5e38\\u52aa\\u529b\", \"\\u5f90\\u90e8\\u9577\\u570b\\u52c7\", \"\\u6211\\u5011\", \"\\u6211\\u5011\\u4e82\\u5728\\u54ea\\u88e1\\u5462\", \"\\u6211\\u5011\\u4f86\", \"\\u6211\\u5011\\u4f86\", \"\\u6211\\u5011\\u53ea\\u80fd\\u9a45\\u96e2\", \"\\u6211\\u5011\\u53ef\\u4ee5\\u5c08\\u6848\\u76f4\\u63a5\\u5ee2\\u68c4\", \"\\u6211\\u5011\\u53ef\\u4ee5\\u5c08\\u6848\\u76f4\\u63a5\\u5ee2\\u68c4\", \"\\u6211\\u5011\\u570b\\u5bb6\\u7684\\u5236\\u5ea6\\u78ba\\u5be6\\u662f\\u4e82\", \"\\u6211\\u5011\\u5728\\u516c\\u6295\\u7684\\u90e8\\u5206\\u9078\\u653f\\u6a5f\\u95dc\", \"\\u6211\\u5011\\u5c0d\\u4e2d\\u570b\", \"\\u6211\\u5011\\u5c0d\\u4e2d\\u570b\", \"\\u6211\\u5011\\u5e0c\\u671b\\u5f88\\u5feb\\u80fd\\u5920\\u9054\\u5230\\u904f\\u6b62\\u7684\\u6548\\u679c\", \"\\u6211\\u5011\\u5e0c\\u671b\\u5f88\\u5feb\\u80fd\\u5920\\u9054\\u5230\\u904f\\u6b62\\u7684\\u6548\\u679c\", \"\\u6211\\u5011\\u6301\\u7e8c\\u7684\\u95dc\\u5fc3\", \"\\u6211\\u5011\\u6bcf\\u5e74\\u6709\\u4e94\\u5343\\u591a\\u6b21\\u7684\\u9a45\\u96e2\", \"\\u6211\\u5011\\u8ca0\\u64d4\\u4e0d\\u8d77\", \"\\u6211\\u60f3\\u8acb\\u554f\", \"\\u6211\\u65b9\\u9a45\\u96e2\", \"\\u6211\\u7684\\u7248\\u672c\\u5728\", \"\\u6211\\u7684\\u7591\\u616e\\u5f88\\u6df1\", \"\\u6240\\u4ee5\", \"\\u6240\\u4ee5\\u9019\\u6b21\\u7684\\u4fee\\u6cd5\\u6211\\u5011\\u5e0c\\u671b\\u8d95\\u5feb\\u901a\\u904e\", \"\\u6293\\u5230\\u5c31\\u95dc\", \"\\u6293\\u5230\\u5c31\\u95dc\", \"\\u62d4\\u8def\\u5152\\u4e3b\\u4efb\\u59d4\\u54e1\", \"\\u63db\\u53e5\\u8a71\\u8aaa\", \"\\u65e5\\u63d0\\u51fa\\u4f86\", \"\\u65e5\\u7684\\u6642\\u5019\\u901a\\u904e\\u4e00\\u8b80\", \"\\u662f\\u7684\", \"\\u6642\\u5019\", \"\\u6708\\u5c31\\u958b\\u59cb\\u95dc\\u6ce8\\u9019\\u500b\\u8ab2\\u984c\\u5230\\u73fe\\u5728\", \"\\u6708\\u5c31\\u9996\\u5ea6\\u63d0\\u51fa\\u5927\\u9678\\u7901\\u5c64\\u6cd5\\u4fee\\u6b63\\u6848\", \"\\u6708\\u6642\\u5c31\\u63d0\\u51fa\\u61c9\\u8a72\\u8981\\u4fee\\u6cd5\", \"\\u6708\\u6642\\u5c31\\u63d0\\u51fa\\u61c9\\u8a72\\u8981\\u4fee\\u6cd5\", \"\\u672c\\u5e2d\\u5df2\\u7d93\\u975e\\u5e38\\u6e05\\u695a\\u4e86\", \"\\u672c\\u5e2d\\u611f\\u5230\\u7279\\u5225\\u6b23\\u6170\", \"\\u672c\\u5e2d\\u771f\\u7684\\u6b23\\u6170\", \"\\u672c\\u5e2d\\u8981\\u8acb\\u6559\\u90e8\\u9577\", \"\\u672c\\u6848\\u4ee5\\u53ca\\u63a5\\u4e0b\\u4f86\\u7684\\u7b2c\\u4e5d\\u6848\", \"\\u672c\\u6848\\u4ee5\\u53ca\\u63a5\\u4e0b\\u4f86\\u7684\\u7b2c\\u4e5d\\u6848\", \"\\u674e\\u4e3b\\u4efb\\u59d4\\u54e1\\u4ef2\\u5a01\", \"\\u674e\\u4e3b\\u4efb\\u59d4\\u54e1\\u4ef2\\u5a01\", \"\\u674e\\u4e3b\\u4efb\\u59d4\\u54e1\\u9032\\u52c7\", \"\\u674e\\u4e3b\\u4efb\\u59d4\\u54e1\\u9032\\u52c7\", \"\\u674e\\u79d8\\u66f8\\u9577\\u5b5f\\u8afa\", \"\\u674e\\u79d8\\u66f8\\u9577\\u5b5f\\u8afa\", \"\\u6797\\u526f\\u4e3b\\u4efb\\u59d4\\u54e1\\u78a7\\u971e\", \"\\u6797\\u526f\\u4e3b\\u4efb\\u59d4\\u54e1\\u78a7\\u971e\", \"\\u6839\\u672c\\u90fd\\u6c92\\u6709\\u6548\", \"\\u694a\\u4e3b\\u4efb\\u59d4\\u54e1\\u9577\\u93ae\", \"\\u694a\\u4e3b\\u4efb\\u59d4\\u54e1\\u9577\\u93ae\", \"\\u6a5f\\u68b0\\u8a2d\\u5099\\u6c92\\u5165\\u4e4b\\u5f8c\", \"\\u6a5f\\u68b0\\u8a2d\\u5099\\u6c92\\u5165\\u4e4b\\u5f8c\", \"\\u6bcf\\u6b21\\u8981\\u5224\\u6c7a\", \"\\u6c92\\u6709\", \"\\u6c92\\u6709\\u4f4d\\u5b50\", \"\\u6c92\\u6709\\u932f\", \"\\u6c92\\u8fa6\\u6cd5\\u518d\\u6293\\u4ed6\\u5011\\u5c31\\u8086\\u7121\\u5fcc\\u619a\", \"\\u6c92\\u932f\", \"\\u70ba\\u4ec0\\u9ebc\", \"\\u7136\\u5f8c\", \"\\u751a\\u81f3\\u7559\\u4e0b\\u4f86\\u4f5c\\u70ba\\u516c\", \"\\u751a\\u81f3\\u7559\\u4e0b\\u4f86\\u4f5c\\u70ba\\u516c\", \"\\u7576\\u7136\", \"\\u7576\\u7136\\u6709\\u53ef\\u80fd\\u662f\\u5973\\u6027\\u6bd4\\u8f03\\u591a\", \"\\u7684\\u7bc4\\u570d\", \"\\u7684\\u7bc4\\u570d\", \"\\u76dc\\u63a1\\u7802\\u77f3\\u4e88\\u4ee5\\u91cd\\u7f70\", \"\\u76dc\\u63a1\\u7802\\u77f3\\u4e88\\u4ee5\\u91cd\\u7f70\", \"\\u76f4\\u81f3\", \"\\u7acb\\u6cd5\\u9662\\u516c\\u5831\", \"\\u7acb\\u6cd5\\u9662\\u516c\\u5831\", \"\\u7b2c\\u4e00\", \"\\u7b2c\\u4e00\\u500b\", \"\\u7b2c\\u4e8c\\u500b\", \"\\u7ba1\\u59d4\\u54e1\", \"\\u7ba1\\u59d4\\u54e1\\u78a7\\u73b2\", \"\\u7d30\\u4f86\\u8a0e\\u8ad6\", \"\\u7f72\\u9577\", \"\\u80fd\\u5920\\u5b89\\u6392\\u5be9\\u67e5\", \"\\u8258\\u6b21\", \"\\u82b1\\u6b21\\u9577\\u656c\\u7fa4\", \"\\u82b1\\u6b21\\u9577\\u656c\\u7fa4\", \"\\u838a\\u526f\\u4e3b\\u4efb\\u59d4\\u54e1\\u517c\\u6d77\\u5de1\\u7f72\\u7f72\\u9577\\u6176\\u9054\", \"\\u838a\\u526f\\u4e3b\\u4efb\\u59d4\\u54e1\\u517c\\u6d77\\u5de1\\u7f72\\u7f72\\u9577\\u6176\\u9054\", \"\\u842c\\u4eba\", \"\\u842c\\u5143\", \"\\u842c\\u5143\\u7684\\u652f\\u51fa\", \"\\u856d\\u6b21\\u9577\\u5b97\\u714c\", \"\\u8607\\u90e8\\u9577\\u5efa\\u69ae\", \"\\u8607\\u90e8\\u9577\\u5efa\\u69ae\", \"\\u8655\\u4e00\\u5e74\\u4ee5\\u4e0a\\u4e03\\u5e74\\u4ee5\\u4e0b\\u6709\\u671f\\u5f92\\u5211\", \"\\u8655\\u4e00\\u5e74\\u4ee5\\u4e0a\\u4e03\\u5e74\\u4ee5\\u4e0b\\u6709\\u671f\\u5f92\\u5211\", \"\\u8881\\u7e3d\\u5e79\\u4e8b\\u5fb7\\u660e\", \"\\u8881\\u7e3d\\u5e79\\u4e8b\\u5fb7\\u660e\", \"\\u8b1d\\u8b1d\", \"\\u8b1d\\u8b1d\\u59d4\\u54e1\", \"\\u8b1d\\u8b1d\\u59d4\\u54e1\\u6307\\u6559\", \"\\u8b1d\\u8b1d\\u59d4\\u54e1\\u7684\\u6307\\u6559\", \"\\u8b93\\u4e2d\\u570b\\u7684\\u62bd\\u7802\\u8239\\u518d\\u7121\\u50e5\\u5016\\u7684\\u6a5f\\u6703\", \"\\u8b93\\u4e2d\\u570b\\u7684\\u62bd\\u7802\\u8239\\u518d\\u7121\\u50e5\\u5016\\u7684\\u6a5f\\u6703\", \"\\u8b93\\u5b83\\u8d70\\u4e8c\\u8b80\", \"\\u8b93\\u9055\\u6cd5\\u8239\\u8236\\u53ef\\u4ee5\\u5feb\\u901f\\u53bb\\u5316\", \"\\u8b93\\u9055\\u6cd5\\u8239\\u8236\\u53ef\\u4ee5\\u5feb\\u901f\\u53bb\\u5316\", \"\\u8cf4\\u745e\\u9686\\u59d4\\u54e1\\u4e5f\\u975e\\u5e38\\u95dc\\u5fc3\", \"\\u8ddf\\u59d4\\u54e1\\u5831\\u544a\", \"\\u900f\\u904e\\u5f88\\u591a\\u7684\\u516c\\u807d\\u6703\", \"\\u900f\\u904e\\u5f88\\u591a\\u7684\\u8655\\u7406\", \"\\u9019\\u500b\\u4fee\\u6cd5\\u662f\\u672c\\u5e2d\\u6700\\u65e9\\u5728\\u4eca\\u5e74\", \"\\u9019\\u500b\\u4fee\\u6cd5\\u662f\\u672c\\u5e2d\\u6700\\u65e9\\u5728\\u4eca\\u5e74\", \"\\u9019\\u500b\\u662f\\u5c08\\u9580\\u734e\\u52f5\\u9752\\u5e74\\u5275\\u4f5c\\u7684\", \"\\u9084\\u53ef\\u4ee5\\u4e0d\\u5fc5\\u66e0\\u65e5\\u5ee2\\u6642\\u7b49\\u5f85\\u62cd\\u8ce3\", \"\\u9084\\u53ef\\u4ee5\\u4e0d\\u5fc5\\u66e0\\u65e5\\u5ee2\\u6642\\u7b49\\u5f85\\u62cd\\u8ce3\", \"\\u9084\\u6709\\u4e00\\u500b\\u6587\\u5b78\\u734e\", \"\\u90e8\\u9577\", \"\\u937e\\u526f\\u4e3b\\u4efb\\u59d4\\u54e1\\u8208\\u83ef\", \"\\u937e\\u526f\\u4e3b\\u4efb\\u59d4\\u54e1\\u8208\\u83ef\", \"\\u9673\\u4e3b\\u4efb\\u59d4\\u54e1\\u660e\\u901a\", \"\\u9673\\u6069\\u6c11\\u5148\\u751f\", \"\\u9673\\u6069\\u6c11\\u5148\\u751f\", \"\\u9673\\u6b21\\u9577\\u5b97\\u5f65\", \"\\u9673\\u6b21\\u9577\\u5b97\\u5f65\", \"\\u9673\\u7f72\\u9577\\u5bb6\\u6b3d\", \"\\u96a8\\u5f8c\\u53c8\\u6709\\u5f88\\u591a\\u59d4\\u54e1\\u63d0\\u51fa\\u5f88\\u591a\\u7684\\u7248\\u672c\", \"\\u99ac\\u7956\\u53ca\\u5357\\u6c99\\u7b49\\u5730\\u4e4b\\u6c34\\u57df\", \"\\u99ac\\u7956\\u53ca\\u5357\\u6c99\\u7b49\\u5730\\u4e4b\\u6c34\\u57df\"]}, \"R\": 30, \"lambda.step\": 0.01, \"plot.opts\": {\"xlab\": \"PC1\", \"ylab\": \"PC2\"}, \"topic.order\": [10, 1, 4, 3, 7, 6, 8, 9, 5, 2]};\n",
       "\n",
       "function LDAvis_load_lib(url, callback){\n",
       "  var s = document.createElement('script');\n",
       "  s.src = url;\n",
       "  s.async = true;\n",
       "  s.onreadystatechange = s.onload = callback;\n",
       "  s.onerror = function(){console.warn(\"failed to load library \" + url);};\n",
       "  document.getElementsByTagName(\"head\")[0].appendChild(s);\n",
       "}\n",
       "\n",
       "if(typeof(LDAvis) !== \"undefined\"){\n",
       "   // already loaded: just create the visualization\n",
       "   !function(LDAvis){\n",
       "       new LDAvis(\"#\" + \"ldavis_el1599625523658623526003293780\", ldavis_el1599625523658623526003293780_data);\n",
       "   }(LDAvis);\n",
       "}else if(typeof define === \"function\" && define.amd){\n",
       "   // require.js is available: use it to load d3/LDAvis\n",
       "   require.config({paths: {d3: \"https://d3js.org/d3.v5\"}});\n",
       "   require([\"d3\"], function(d3){\n",
       "      window.d3 = d3;\n",
       "      LDAvis_load_lib(\"https://cdn.jsdelivr.net/gh/bmabey/pyLDAvis@3.2.2/pyLDAvis/js/ldavis.v3.0.0.js\", function(){\n",
       "        new LDAvis(\"#\" + \"ldavis_el1599625523658623526003293780\", ldavis_el1599625523658623526003293780_data);\n",
       "      });\n",
       "    });\n",
       "}else{\n",
       "    // require.js not available: dynamically load d3 & LDAvis\n",
       "    LDAvis_load_lib(\"https://d3js.org/d3.v5.js\", function(){\n",
       "         LDAvis_load_lib(\"https://cdn.jsdelivr.net/gh/bmabey/pyLDAvis@3.2.2/pyLDAvis/js/ldavis.v3.0.0.js\", function(){\n",
       "                 new LDAvis(\"#\" + \"ldavis_el1599625523658623526003293780\", ldavis_el1599625523658623526003293780_data);\n",
       "            })\n",
       "         });\n",
       "}\n",
       "</script>"
      ],
      "text/plain": [
       "<IPython.core.display.HTML object>"
      ]
     },
     "execution_count": 23,
     "metadata": {},
     "output_type": "execute_result"
    }
   ],
   "source": [
    "import pyLDAvis\n",
    "import pyLDAvis.gensim\n",
    "import matplotlib.pyplot as plt\n",
    "\n",
    "%matplotlib inline\n",
    "\n",
    "pyLDAvis.enable_notebook\n",
    "vis = pyLDAvis.gensim.prepare(lda_model, corpus, dict, doc_topic_dist=None)\n",
    "\n",
    "\n",
    "\"\"\"\n",
    "参数说明：\n",
    "prepare(topic_model, corpus, dictionary, doc_topic_dist=None)\n",
    "topic_model：训练得到的 gensim LdaModel 对象，不支持其他 gensim 模型类型\n",
    "corpus：以词袋形式表示的语料（用于训练主题模型的语料）\n",
    "dictionary：用于构建词袋模型的字典，即 gensim Dictionary 对象\n",
    "doc_topic_dist：可选参数，用于传入 LDA 模型的文档主题分布，默认取值为 None，当需要多次调用 prepare 函数时，可以传入该参数\n",
    "\"\"\"\n",
    "pyLDAvis.display(vis)"
   ]
  },
  {
   "cell_type": "code",
   "execution_count": null,
   "metadata": {},
   "outputs": [],
   "source": []
  }
 ],
 "metadata": {
  "kernelspec": {
   "display_name": "Python 3",
   "language": "python",
   "name": "python3"
  },
  "language_info": {
   "codemirror_mode": {
    "name": "ipython",
    "version": 3
   },
   "file_extension": ".py",
   "mimetype": "text/x-python",
   "name": "python",
   "nbconvert_exporter": "python",
   "pygments_lexer": "ipython3",
   "version": "3.8.5"
  }
 },
 "nbformat": 4,
 "nbformat_minor": 4
}
